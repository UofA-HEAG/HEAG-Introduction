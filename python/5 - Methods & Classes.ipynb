{
 "cells": [
  {
   "cell_type": "markdown",
   "metadata": {},
   "source": [
    "## Methods and Classes\n",
    "\n",
    "This notebook covers the following topics:\n",
    "* Methods\n",
    "* Classes\n",
    "* Good Practice (docstrings)"
   ]
  },
  {
   "cell_type": "markdown",
   "metadata": {},
   "source": [
    "### Methods\n",
    "At some point, code gets quite complex and often one needs to do the same steps multiple times. Therefore, it is useful to orgsanise and structure the code, and to provide functionalities to reuse parts of the code. This can be done with *methods*.\n",
    "\n",
    "The keyword for a methods is `def` followed by the method name and parentheses `()` and a colon `:`. Input parameters are to be placed within the parentheses. Output parameters are returned at the end of the method and start with `return`."
   ]
  },
  {
   "cell_type": "code",
   "execution_count": 1,
   "metadata": {
    "collapsed": false
   },
   "outputs": [],
   "source": [
    "# Method name is \"is_prime\"\n",
    "# Input is \"number\"\n",
    "def is_prime(number):\n",
    "    # Here the code block starts    \n",
    "    for n in range(number-1, 1, -1):      \n",
    "        if number % n == 0:\n",
    "            prime = False\n",
    "            break\n",
    "            \n",
    "        if n == 2:\n",
    "            prime = True\n",
    "            \n",
    "    if (number == 2) | (number == 1):\n",
    "        prime = True\n",
    "    \n",
    "    # The parameter \"prime\" is returned.\n",
    "    return prime"
   ]
  },
  {
   "cell_type": "code",
   "execution_count": 2,
   "metadata": {},
   "outputs": [
    {
     "name": "stdout",
     "output_type": "stream",
     "text": [
      "True\n",
      "False\n",
      "True\n"
     ]
    }
   ],
   "source": [
    "# Here we call the method with different inputs.\n",
    "print(is_prime(3))\n",
    "print(is_prime(4))\n",
    "print(is_prime(5))"
   ]
  },
  {
   "cell_type": "code",
   "execution_count": 3,
   "metadata": {
    "collapsed": true
   },
   "outputs": [],
   "source": [
    "# Another example\n",
    "# In this example we reuse the previous method \"is_prime\"\n",
    "def get_N_Primes(n):   \n",
    "    primes = []   \n",
    "    i = 2\n",
    "    \n",
    "    while len(primes) < n:   \n",
    "        if is_prime(i) == True:          \n",
    "            primes.append(i)            \n",
    "        i += 1 \n",
    "        \n",
    "    return primes"
   ]
  },
  {
   "cell_type": "code",
   "execution_count": 4,
   "metadata": {
    "collapsed": false
   },
   "outputs": [
    {
     "data": {
      "text/plain": [
       "[2, 3, 5, 7]"
      ]
     },
     "execution_count": 4,
     "metadata": {},
     "output_type": "execute_result"
    }
   ],
   "source": [
    "# And again we call it with a specific input\n",
    "get_N_Primes(4)"
   ]
  },
  {
   "cell_type": "code",
   "execution_count": 5,
   "metadata": {
    "collapsed": true
   },
   "outputs": [],
   "source": [
    "# Slightly extended the method\n",
    "def get_N_Primes(n, start=2):  \n",
    "    primes = []    \n",
    "    i = start  \n",
    "    \n",
    "    while len(primes) < n:       \n",
    "        if is_prime(i) == True:            \n",
    "            primes.append(i)            \n",
    "        i += 1   \n",
    "        \n",
    "    return primes"
   ]
  },
  {
   "cell_type": "code",
   "execution_count": 6,
   "metadata": {
    "collapsed": false
   },
   "outputs": [
    {
     "name": "stdout",
     "output_type": "stream",
     "text": [
      "[2, 3, 5, 7]\n",
      "[11, 13, 17, 19]\n"
     ]
    }
   ],
   "source": [
    "print(get_N_Primes(4))\n",
    "print(get_N_Primes(4, start=10))"
   ]
  },
  {
   "cell_type": "markdown",
   "metadata": {},
   "source": [
    "### Good Practice\n",
    "The use of methods could be interpreted as some kind of \"outsourcing\" code. Therefore, it is very useful to have a way to find out what the method is doing, what is the input, what is the output etc. without looking at the code. This can be achieved with so-called `docstrings`. \n",
    "\n",
    "`docstrings` are structured as follows:\n",
    "* Start and end with 3 quotation marks `\"\"\"`\n",
    "* Brief description what the method is doing\n",
    "* List of input parameters, beginning with `Parameters`. The input parameters are structured as follows:\n",
    "    * the name of the input parameter\n",
    "    * the type of the input parameter (and it is noted if it's an optional parameter, otherwise it is assumed it is required)\n",
    "    * the description of the input parameter\n",
    "* List of output parameters, beginning with `Returns`. The output parameters are structured as follows:\n",
    "    * the name of the output parameter\n",
    "    * the type of the output parameter\n",
    "    * the description of the output parameter\n",
    "* Examples on how to use the method, beginning with `Examples`. Commonly, the input starts with `>>>` and the output is listed in the next line.\n",
    "\n",
    "This \"help\" can be accessed by typing the name of the method and adding a question mark `?` at the end."
   ]
  },
  {
   "cell_type": "code",
   "execution_count": 7,
   "metadata": {
    "collapsed": true
   },
   "outputs": [],
   "source": [
    "def get_N_Primes(n, start=2):\n",
    "    \n",
    "    \"\"\"Get n prime numbers.\n",
    "\n",
    "    Parameters\n",
    "    ----------\n",
    "    n : int\n",
    "        The number of primes to be searched for.\n",
    "    start : int, optional\n",
    "        Search only for primes larger than start.\n",
    "    \n",
    "    Returns\n",
    "    -------\n",
    "    get_N_primes : list\n",
    "        A list of n prime numbers.\n",
    "    \n",
    "    Examples\n",
    "    --------\n",
    "    >>> get_N_primes(4)\n",
    "    [2, 3, 5, 7]\n",
    "    >>> get_N_primes(4, start=10)\n",
    "    [11, 13, 17, 19]\n",
    "    \n",
    "    \"\"\"\n",
    "    \n",
    "    primes = []  \n",
    "    i = start\n",
    "    \n",
    "    while len(primes) < n:        \n",
    "        if is_prime(i) == True:            \n",
    "            primes.append(i)          \n",
    "        i += 1\n",
    "            \n",
    "    return primes"
   ]
  },
  {
   "cell_type": "code",
   "execution_count": 8,
   "metadata": {
    "collapsed": true
   },
   "outputs": [
    {
     "data": {
      "text/plain": [
       "\u001b[0;31mSignature:\u001b[0m \u001b[0mget_N_Primes\u001b[0m\u001b[0;34m(\u001b[0m\u001b[0mn\u001b[0m\u001b[0;34m,\u001b[0m \u001b[0mstart\u001b[0m\u001b[0;34m=\u001b[0m\u001b[0;36m2\u001b[0m\u001b[0;34m)\u001b[0m\u001b[0;34m\u001b[0m\u001b[0m\n",
       "\u001b[0;31mDocstring:\u001b[0m\n",
       "Get n prime numbers.\n",
       "\n",
       "Parameters\n",
       "----------\n",
       "n : int\n",
       "    The number of primes to be searched for.\n",
       "start : int, optional\n",
       "    Search only for primes larger than start.\n",
       "\n",
       "Returns\n",
       "-------\n",
       "get_N_primes : list\n",
       "    A list of n prime numbers.\n",
       "\n",
       "Examples\n",
       "--------\n",
       ">>> get_N_primes(4)\n",
       "[2, 3, 5, 7]\n",
       ">>> get_N_primes(4, start=10)\n",
       "[11, 13, 17, 19]\n",
       "\u001b[0;31mFile:\u001b[0m      ~/CTA/school2018/CTA-Oz-School/Python_Introduction/<ipython-input-7-4fa8eaf15bfd>\n",
       "\u001b[0;31mType:\u001b[0m      function\n"
      ]
     },
     "metadata": {},
     "output_type": "display_data"
    }
   ],
   "source": [
    "get_N_Primes?"
   ]
  },
  {
   "cell_type": "markdown",
   "metadata": {},
   "source": [
    "### Classes\n",
    "A step further to the organisation and structuring of code are `classes`. They provide possibilities of bundling data and functionality together.\n",
    "\n",
    "The keyword for a class is `class`, followed by the name of the class and a colon. Typically, the name of the class is capitalised. Subsequently, a bunch of methods can be added. Typically, an initialisation method `__init__` is added. When a new instance of the class is created, this method is executed automatically. Like this, the created object comes with a specific inital state, which is often quite useful. As it is a method, input parameters can be passed.\n",
    "\n",
    "Commonly, the first argument of a method in classes is called `self`. Like this, you have access to the object within a method, for example to the attributes of the object."
   ]
  },
  {
   "cell_type": "code",
   "execution_count": 9,
   "metadata": {},
   "outputs": [],
   "source": [
    "# The class name is \"cube\"\n",
    "class Cube:\n",
    "    # This method is called automatically when the object \"Cube\" is created\n",
    "    # In this method we set parameters to specific values\n",
    "    # (either fixed or defined by the user when creating the object)\n",
    "    def __init__(self, colour, weight, edge_length):\n",
    "        self.geometry = 'cube'\n",
    "        self.colour = colour\n",
    "        self.weight = weight\n",
    "        self.edge_length = edge_length\n",
    "    \n",
    "    # This method can calculate something, \n",
    "    # which uses the parameters of the object\n",
    "    def calc_volume(self):\n",
    "        return self.edge_length ** 3\n",
    "    \n",
    "    # This method calculates something else,\n",
    "    # which depends on a parameter of the method, \n",
    "    # but also on another method\n",
    "    # (note the parentheses to distinguish between parameter and method)\n",
    "    def calc_density(self):\n",
    "        return self.weight / self.calc_volume()"
   ]
  },
  {
   "cell_type": "code",
   "execution_count": 10,
   "metadata": {},
   "outputs": [
    {
     "name": "stdout",
     "output_type": "stream",
     "text": [
      "black\n"
     ]
    }
   ],
   "source": [
    "# Here we create an object of the type \"Cube\"\n",
    "# and initialse it with specific values\n",
    "# and store it under the name \"cube1\"\n",
    "cube1 = Cube('black', 4, 2)\n",
    "# Here we access one of the paramerers of the object\n",
    "print(cube1.colour)"
   ]
  },
  {
   "cell_type": "code",
   "execution_count": 11,
   "metadata": {},
   "outputs": [
    {
     "name": "stdout",
     "output_type": "stream",
     "text": [
      "black\n"
     ]
    }
   ],
   "source": [
    "# The allocation of values to parameters can either be done sequentially, \n",
    "# according to the order in the init method\n",
    "# Or: with the corresponding parameter names\n",
    "cube1 = Cube(colour='black', weight=4, edge_length=2)\n",
    "print(cube1.colour)"
   ]
  },
  {
   "cell_type": "code",
   "execution_count": 12,
   "metadata": {},
   "outputs": [
    {
     "name": "stdout",
     "output_type": "stream",
     "text": [
      "black\n"
     ]
    }
   ],
   "source": [
    "# In case of using parameter names for the initialisation,\n",
    "# the order of the parameters does not matter\n",
    "cube1 = Cube(weight=4, colour='black', edge_length=2)\n",
    "print(cube1.colour)"
   ]
  },
  {
   "cell_type": "code",
   "execution_count": 13,
   "metadata": {},
   "outputs": [
    {
     "name": "stdout",
     "output_type": "stream",
     "text": [
      "red\n"
     ]
    }
   ],
   "source": [
    "# It is also possible to change the value of a parameter\n",
    "cube1.colour = 'red'\n",
    "print(cube1.colour)"
   ]
  },
  {
   "cell_type": "code",
   "execution_count": 14,
   "metadata": {},
   "outputs": [
    {
     "name": "stdout",
     "output_type": "stream",
     "text": [
      "8\n",
      "0.5\n"
     ]
    }
   ],
   "source": [
    "# Here, the methods are called to calculate volume and density\n",
    "print(cube1.calc_volume())\n",
    "print(cube1.calc_density())"
   ]
  },
  {
   "cell_type": "code",
   "execution_count": 15,
   "metadata": {},
   "outputs": [],
   "source": [
    "# Let's define a different, but quite similar class\n",
    "class Cuboid:\n",
    "    \n",
    "    def __init__(self, colour, weight, length, width, height):\n",
    "        self.geometry = 'cuboid'\n",
    "        self.colour = colour\n",
    "        self.weight = weight\n",
    "        self.length = length\n",
    "        self.height = height\n",
    "        self.width = width\n",
    "        \n",
    "    def calc_volume(self):\n",
    "        return self.length * self.width * self.height\n",
    "    \n",
    "    def calc_density(self):\n",
    "        return self.weight / self.calc_volume()"
   ]
  },
  {
   "cell_type": "code",
   "execution_count": 16,
   "metadata": {},
   "outputs": [
    {
     "name": "stdout",
     "output_type": "stream",
     "text": [
      "30\n",
      "0.1\n"
     ]
    }
   ],
   "source": [
    "cuboid1 = Cuboid('blue', 3, 2, 3, 5)\n",
    "print(cuboid1.calc_volume())\n",
    "print(cuboid1.calc_density())"
   ]
  },
  {
   "cell_type": "code",
   "execution_count": 17,
   "metadata": {},
   "outputs": [],
   "source": [
    "# Since these classes are quite similar and include both the same method,\n",
    "# one class can \"inherit\" from the other class\n",
    "# This is realised by spcifying the \"parent\" class in the parentheses\n",
    "# In the following, Cuboid inherits the method 'calc_density' from Cube\n",
    "# The reamining methods are redefined, since they are slightly different\n",
    "class Cuboid(Cube):\n",
    "    \n",
    "    def __init__(self, colour, weight, length, width, height):\n",
    "        self.geometry = 'cuboid'\n",
    "        self.colour = colour\n",
    "        self.weight = weight\n",
    "        self.length = length\n",
    "        self.height = height\n",
    "        self.width = width\n",
    "        \n",
    "    def calc_volume(self):\n",
    "        return self.length * self.width * self.height"
   ]
  },
  {
   "cell_type": "code",
   "execution_count": 18,
   "metadata": {},
   "outputs": [
    {
     "name": "stdout",
     "output_type": "stream",
     "text": [
      "30\n",
      "0.1\n"
     ]
    }
   ],
   "source": [
    "cuboid1 = Cuboid('blue', 3, 2, 3, 5)\n",
    "print(cuboid1.calc_volume())\n",
    "print(cuboid1.calc_density())"
   ]
  },
  {
   "cell_type": "code",
   "execution_count": 19,
   "metadata": {},
   "outputs": [],
   "source": [
    "# Often it is quite useful to create a base class and all further classes inherit from this class.\n",
    "# Like this, a specific structure of a class can be specified\n",
    "# In this case, this base object includes all attributes and methods that are the same for Cube and Cuboid\n",
    "class GeometricObject:\n",
    "    \n",
    "    def __init__(self, colour, weight):\n",
    "        self.colour = colour\n",
    "        self.weight = weight\n",
    "        \n",
    "    def calc_density(self):\n",
    "        return self.weight / self.calc_volume()"
   ]
  },
  {
   "cell_type": "code",
   "execution_count": 20,
   "metadata": {},
   "outputs": [],
   "source": [
    "# Here we define now Cube and Cuboid, where both classes inherit from the base class GeometricObject\n",
    "# Further, we add the remaining needed method and attributes.\n",
    "class Cube(GeometricObject):\n",
    "    def __init__(self, colour, weight, edge_length):\n",
    "        self.geometry = 'cube'\n",
    "        self.colour = colour\n",
    "        self.weight = weight\n",
    "        self.edge_length = edge_length\n",
    "        \n",
    "    def calc_volume(self):\n",
    "        return self.edge_length ** 3\n",
    "\n",
    "class Cuboid(GeometricObject):\n",
    "    def __init__(self, colour, weight, length, width, height):\n",
    "        self.geometry = 'cuboid'\n",
    "        self.colour = colour\n",
    "        self.weight = weight\n",
    "        self.length = length\n",
    "        self.height = height\n",
    "        self.width = width\n",
    "        \n",
    "    def calc_volume(self):\n",
    "        return self.length * self.width * self.height"
   ]
  },
  {
   "cell_type": "code",
   "execution_count": 21,
   "metadata": {},
   "outputs": [
    {
     "name": "stdout",
     "output_type": "stream",
     "text": [
      "30\n",
      "0.1\n"
     ]
    }
   ],
   "source": [
    "cuboid1 = Cuboid('blue', 3, 2, 3, 5)\n",
    "print(cuboid1.calc_volume())\n",
    "print(cuboid1.calc_density())"
   ]
  },
  {
   "cell_type": "code",
   "execution_count": 22,
   "metadata": {},
   "outputs": [],
   "source": [
    "# This can even be shortened, when we call the init function of the base class\n",
    "# and only subsequently we add the further attributes\n",
    "# rather than writing it again\n",
    "class Cube(GeometricObject):\n",
    "    def __init__(self, edge_length, *args, **kwargs):\n",
    "        super(Cube, self).__init__(*args, **kwargs)\n",
    "        self.edge_length = edge_length\n",
    "        self.geometry = 'cube'\n",
    "        \n",
    "    def calc_volume(self):\n",
    "        return self.edge_length ** 3"
   ]
  },
  {
   "cell_type": "code",
   "execution_count": 23,
   "metadata": {},
   "outputs": [
    {
     "name": "stdout",
     "output_type": "stream",
     "text": [
      "2\n",
      "8\n",
      "0.5\n"
     ]
    }
   ],
   "source": [
    "cube1 = Cube(colour='black', weight=4, edge_length=2)\n",
    "print(cube1.edge_length)\n",
    "print(cube1.calc_volume())\n",
    "print(cube1.calc_density())"
   ]
  },
  {
   "cell_type": "code",
   "execution_count": 24,
   "metadata": {},
   "outputs": [],
   "source": [
    "class Cuboid(GeometricObject):\n",
    "    def __init__(self, length, width, height, *args, **kwargs):\n",
    "        super(Cuboid, self).__init__(*args, **kwargs)\n",
    "        self.length = length\n",
    "        self.width = width\n",
    "        self.height = height\n",
    "        self.geometry = 'cuboid'\n",
    "        \n",
    "    def calc_volume(self):\n",
    "        return self.length * self.width * self.height"
   ]
  },
  {
   "cell_type": "code",
   "execution_count": 25,
   "metadata": {},
   "outputs": [
    {
     "name": "stdout",
     "output_type": "stream",
     "text": [
      "30\n",
      "0.1\n"
     ]
    }
   ],
   "source": [
    "cuboid1 = Cuboid(colour='blue', weight=3, length=2, width=3, height=5)\n",
    "print(cuboid1.calc_volume())\n",
    "print(cuboid1.calc_density())"
   ]
  },
  {
   "cell_type": "markdown",
   "metadata": {},
   "source": [
    "### Good Practice\n",
    "Also for classes it is recommended to add a documentation - to the instance, but also to the methods. The structure is similar to \"simple\" methods."
   ]
  },
  {
   "cell_type": "code",
   "execution_count": 26,
   "metadata": {},
   "outputs": [],
   "source": [
    "class Cube(GeometricObject):\n",
    "    \"\"\"This class is describes the geometrical object 'cube'.\n",
    "    It can derive properties for you.\n",
    "    \"\"\"\n",
    "    \n",
    "    def __init__(self, edge_length, *args, **kwargs):\n",
    "        \"\"\"Initialises the geometrical object.\n",
    "        \n",
    "        Parameters\n",
    "        ----------\n",
    "        edge_length: float\n",
    "            Edge length of the cube. Unit is m.\n",
    "        colour: string\n",
    "            Colour of the cube.\n",
    "        weight: float\n",
    "            Weight of the cube. Unit is kg.\n",
    "        \"\"\"\n",
    "        super(Cube, self).__init__(*args, **kwargs)\n",
    "        self.edge_length = edge_length\n",
    "        self.geometry = 'cube'\n",
    "        \n",
    "    def calc_volume(self):\n",
    "        \"\"\"\n",
    "        Calculates the volume of the cube.\n",
    "        \n",
    "        Returns\n",
    "        ---------\n",
    "        volume: float\n",
    "            The volume of the cube. Unit is m/kg.\n",
    "        \"\"\"\n",
    "        return self.edge_length ** 3"
   ]
  },
  {
   "cell_type": "code",
   "execution_count": 27,
   "metadata": {},
   "outputs": [],
   "source": [
    "cube1 = Cube(colour='black', weight=4, edge_length=2)"
   ]
  },
  {
   "cell_type": "code",
   "execution_count": 28,
   "metadata": {},
   "outputs": [
    {
     "data": {
      "text/plain": [
       "\u001b[0;31mType:\u001b[0m           Cube\n",
       "\u001b[0;31mString form:\u001b[0m    <__main__.Cube object at 0x103eb14a8>\n",
       "\u001b[0;31mDocstring:\u001b[0m     \n",
       "This class is describes the geometrical object 'cube'.\n",
       "It can derive properties for you.\n",
       "\u001b[0;31mInit docstring:\u001b[0m\n",
       "Initialises the geometrical object.\n",
       "\n",
       "Parameters\n",
       "----------\n",
       "edge_length: float\n",
       "    Edge length of the cube. Unit is m.\n",
       "colour: string\n",
       "    Colour of the cube.\n",
       "weight: float\n",
       "    Weight of the cube. Unit is kg.\n"
      ]
     },
     "metadata": {},
     "output_type": "display_data"
    }
   ],
   "source": [
    "cube1?"
   ]
  },
  {
   "cell_type": "code",
   "execution_count": 29,
   "metadata": {},
   "outputs": [
    {
     "data": {
      "text/plain": [
       "\u001b[0;31mSignature:\u001b[0m \u001b[0mcube1\u001b[0m\u001b[0;34m.\u001b[0m\u001b[0mcalc_volume\u001b[0m\u001b[0;34m(\u001b[0m\u001b[0;34m)\u001b[0m\u001b[0;34m\u001b[0m\u001b[0m\n",
       "\u001b[0;31mDocstring:\u001b[0m\n",
       "Calculates the volume of the cube.\n",
       "\n",
       "Returns\n",
       "---------\n",
       "volume: float\n",
       "    The volume of the cube. Unit is m/kg.\n",
       "\u001b[0;31mFile:\u001b[0m      ~/CTA/school2018/CTA-Oz-School/Python_Introduction/<ipython-input-26-21ced2ab7c16>\n",
       "\u001b[0;31mType:\u001b[0m      method\n"
      ]
     },
     "metadata": {},
     "output_type": "display_data"
    }
   ],
   "source": [
    "cube1.calc_volume?"
   ]
  },
  {
   "cell_type": "code",
   "execution_count": null,
   "metadata": {},
   "outputs": [],
   "source": []
  },
  {
   "cell_type": "code",
   "execution_count": null,
   "metadata": {},
   "outputs": [],
   "source": []
  }
 ],
 "metadata": {
  "kernelspec": {
   "display_name": "Python 3",
   "language": "python",
   "name": "python3"
  },
  "language_info": {
   "codemirror_mode": {
    "name": "ipython",
    "version": 3
   },
   "file_extension": ".py",
   "mimetype": "text/x-python",
   "name": "python",
   "nbconvert_exporter": "python",
   "pygments_lexer": "ipython3",
   "version": "3.6.4"
  }
 },
 "nbformat": 4,
 "nbformat_minor": 2
}
