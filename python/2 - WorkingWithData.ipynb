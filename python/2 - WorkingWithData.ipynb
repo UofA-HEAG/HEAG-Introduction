{
 "cells": [
  {
   "cell_type": "markdown",
   "metadata": {},
   "source": [
    "# 2 - Working with Data\n",
    "As an experimental physicist, you are mostly working with data sets. Data preparation and inspection belong to the major and most time consuming tasks. An efficient way to deal with them is therefore essential!\n",
    "\n",
    "This notebook covers the usage of the following packages:\n",
    "* NumPy\n",
    "* Pandas"
   ]
  },
  {
   "cell_type": "markdown",
   "metadata": {},
   "source": [
    "## NumPy\n",
    "The NumPy package provides very useful array objects. Moreover, it provdies tools for linear algebra, Fourier transform, and random number generations.\n",
    "It is widely used in the scientific community."
   ]
  },
  {
   "cell_type": "code",
   "execution_count": 1,
   "metadata": {
    "collapsed": true
   },
   "outputs": [],
   "source": [
    "# First we have to import the package\n",
    "# At the same time, we introduce an abbrevation for it\n",
    "# Typically, np is used for numpy\n",
    "import numpy as np"
   ]
  },
  {
   "cell_type": "markdown",
   "metadata": {},
   "source": [
    "#### Creation of numpy arrays"
   ]
  },
  {
   "cell_type": "code",
   "execution_count": 2,
   "metadata": {
    "collapsed": true
   },
   "outputs": [
    {
     "data": {
      "text/plain": [
       "array([1, 2, 3, 4, 5])"
      ]
     },
     "execution_count": 2,
     "metadata": {},
     "output_type": "execute_result"
    }
   ],
   "source": [
    "# Create a numpy array\n",
    "a = np.array([1,2,3,4,5])\n",
    "a"
   ]
  },
  {
   "cell_type": "code",
   "execution_count": 3,
   "metadata": {
    "collapsed": true,
    "scrolled": true
   },
   "outputs": [
    {
     "data": {
      "text/plain": [
       "array([ 2,  4,  6,  8, 10])"
      ]
     },
     "execution_count": 3,
     "metadata": {},
     "output_type": "execute_result"
    }
   ],
   "source": [
    "# Perform some mathmatical transformations\n",
    "a * 2"
   ]
  },
  {
   "cell_type": "code",
   "execution_count": 4,
   "metadata": {
    "collapsed": true
   },
   "outputs": [
    {
     "data": {
      "text/plain": [
       "[1, 2, 3, 4, 5, 1, 2, 3, 4, 5]"
      ]
     },
     "execution_count": 4,
     "metadata": {},
     "output_type": "execute_result"
    }
   ],
   "source": [
    "# Remember what happened for lists\n",
    "2 * [1,2,3,4,5]"
   ]
  },
  {
   "cell_type": "code",
   "execution_count": 5,
   "metadata": {
    "collapsed": true,
    "scrolled": true
   },
   "outputs": [
    {
     "data": {
      "text/plain": [
       "array([ 1,  4,  9, 16, 25])"
      ]
     },
     "execution_count": 5,
     "metadata": {},
     "output_type": "execute_result"
    }
   ],
   "source": [
    "# More transformations\n",
    "a**2"
   ]
  },
  {
   "cell_type": "code",
   "execution_count": 6,
   "metadata": {
    "collapsed": true
   },
   "outputs": [
    {
     "data": {
      "text/plain": [
       "array([ 0.84147098,  0.90929743,  0.14112001, -0.7568025 , -0.95892427])"
      ]
     },
     "execution_count": 6,
     "metadata": {},
     "output_type": "execute_result"
    }
   ],
   "source": [
    "# numpy provides also more high-level functions\n",
    "np.sin(a)"
   ]
  },
  {
   "cell_type": "code",
   "execution_count": 7,
   "metadata": {
    "collapsed": true
   },
   "outputs": [
    {
     "data": {
      "text/plain": [
       "array([[ 1,  2,  3,  4,  5],\n",
       "       [ 6,  7,  8,  9, 10]])"
      ]
     },
     "execution_count": 7,
     "metadata": {},
     "output_type": "execute_result"
    }
   ],
   "source": [
    "# N-dimensional arrays are also possible. Here 2-dimensional array with 2 rows, 5 columns:\n",
    "a_2d = np.array([[1,2,3,4,5], [6,7,8,9,10]])\n",
    "a_2d"
   ]
  },
  {
   "cell_type": "code",
   "execution_count": 8,
   "metadata": {
    "collapsed": true
   },
   "outputs": [
    {
     "data": {
      "text/plain": [
       "(2, 5)"
      ]
     },
     "execution_count": 8,
     "metadata": {},
     "output_type": "execute_result"
    }
   ],
   "source": [
    "# Get the shape (number of rows and columns) of the array\n",
    "np.shape(a_2d)"
   ]
  },
  {
   "cell_type": "code",
   "execution_count": 9,
   "metadata": {
    "collapsed": true
   },
   "outputs": [
    {
     "data": {
      "text/plain": [
       "2"
      ]
     },
     "execution_count": 9,
     "metadata": {},
     "output_type": "execute_result"
    }
   ],
   "source": [
    "# Get the dimension of the array\n",
    "np.ndim(a_2d)"
   ]
  },
  {
   "cell_type": "code",
   "execution_count": 10,
   "metadata": {
    "collapsed": true,
    "scrolled": true
   },
   "outputs": [
    {
     "data": {
      "text/plain": [
       "10"
      ]
     },
     "execution_count": 10,
     "metadata": {},
     "output_type": "execute_result"
    }
   ],
   "source": [
    "# Get the number of entries of the array\n",
    "np.size(a_2d)"
   ]
  },
  {
   "cell_type": "code",
   "execution_count": 11,
   "metadata": {
    "collapsed": true
   },
   "outputs": [
    {
     "data": {
      "text/plain": [
       "array([0., 0., 0.])"
      ]
     },
     "execution_count": 11,
     "metadata": {},
     "output_type": "execute_result"
    }
   ],
   "source": [
    "# Array of zeros of size n\n",
    "n = 3\n",
    "np.zeros(n)"
   ]
  },
  {
   "cell_type": "code",
   "execution_count": 12,
   "metadata": {
    "collapsed": true
   },
   "outputs": [
    {
     "data": {
      "text/plain": [
       "array([1., 1., 1.])"
      ]
     },
     "execution_count": 12,
     "metadata": {},
     "output_type": "execute_result"
    }
   ],
   "source": [
    "# Array of zeros of size n\n",
    "n = 3\n",
    "np.ones(n)"
   ]
  },
  {
   "cell_type": "code",
   "execution_count": 13,
   "metadata": {
    "collapsed": true
   },
   "outputs": [
    {
     "data": {
      "text/plain": [
       "array([[0., 0.],\n",
       "       [0., 0.],\n",
       "       [0., 0.]])"
      ]
     },
     "execution_count": 13,
     "metadata": {},
     "output_type": "execute_result"
    }
   ],
   "source": [
    "# N-dim array of zeros of size nxm\n",
    "n = 3\n",
    "m = 2\n",
    "np.zeros((n,m))"
   ]
  },
  {
   "cell_type": "code",
   "execution_count": 14,
   "metadata": {
    "collapsed": true,
    "scrolled": true
   },
   "outputs": [
    {
     "data": {
      "text/plain": [
       "array([0, 1, 2, 3, 4])"
      ]
     },
     "execution_count": 14,
     "metadata": {},
     "output_type": "execute_result"
    }
   ],
   "source": [
    "# Create an array with n entries, increasing by 1\n",
    "n = 5\n",
    "np.arange(n)"
   ]
  },
  {
   "cell_type": "code",
   "execution_count": 15,
   "metadata": {
    "collapsed": true
   },
   "outputs": [
    {
     "data": {
      "text/plain": [
       "array([4.5, 5.5, 6.5])"
      ]
     },
     "execution_count": 15,
     "metadata": {},
     "output_type": "execute_result"
    }
   ],
   "source": [
    "# Create an array in the range from start to stop, increasing by 1\n",
    "start = 4.5\n",
    "stop = 7\n",
    "np.arange(start, stop)"
   ]
  },
  {
   "cell_type": "code",
   "execution_count": 16,
   "metadata": {
    "collapsed": true
   },
   "outputs": [
    {
     "data": {
      "text/plain": [
       "array([5. , 5.1, 5.2, 5.3, 5.4, 5.5, 5.6, 5.7, 5.8, 5.9])"
      ]
     },
     "execution_count": 16,
     "metadata": {},
     "output_type": "execute_result"
    }
   ],
   "source": [
    "# Create an array in the range from start to stop, increasing by increment\n",
    "start = 5\n",
    "stop = 6\n",
    "increment = 0.1\n",
    "np.arange(start, stop, increment)"
   ]
  },
  {
   "cell_type": "code",
   "execution_count": 17,
   "metadata": {
    "collapsed": true
   },
   "outputs": [
    {
     "data": {
      "text/plain": [
       "array([0. , 0.2, 0.4, 0.6, 0.8, 1. , 1.2, 1.4, 1.6, 1.8, 2. ])"
      ]
     },
     "execution_count": 17,
     "metadata": {},
     "output_type": "execute_result"
    }
   ],
   "source": [
    "# Create an array from start to stop with n entries\n",
    "start = 0\n",
    "stop = 2\n",
    "n = 11\n",
    "np.linspace(start, stop, n)"
   ]
  },
  {
   "cell_type": "code",
   "execution_count": 18,
   "metadata": {
    "collapsed": true
   },
   "outputs": [
    {
     "data": {
      "text/plain": [
       "array([  100.        ,   166.81005372,   278.25594022,   464.15888336,\n",
       "         774.26368268,  1291.54966501,  2154.43469003,  3593.8136638 ,\n",
       "        5994.84250319, 10000.        ])"
      ]
     },
     "execution_count": 18,
     "metadata": {},
     "output_type": "execute_result"
    }
   ],
   "source": [
    "# Create an array of n entries in the range 10^start to 10^stop\n",
    "start = 2\n",
    "stop = 5\n",
    "n = 10\n",
    "np.logspace(2,4,10)"
   ]
  },
  {
   "cell_type": "markdown",
   "metadata": {},
   "source": [
    "#### Accessing (indexing) numpy arrays"
   ]
  },
  {
   "cell_type": "code",
   "execution_count": 19,
   "metadata": {
    "collapsed": true
   },
   "outputs": [
    {
     "data": {
      "text/plain": [
       "array([[ 1,  2,  3,  4,  5],\n",
       "       [ 6,  7,  8,  9, 10]])"
      ]
     },
     "execution_count": 19,
     "metadata": {},
     "output_type": "execute_result"
    }
   ],
   "source": [
    "# Let's have a look again to our array\n",
    "a_2d"
   ]
  },
  {
   "cell_type": "code",
   "execution_count": 20,
   "metadata": {
    "collapsed": true
   },
   "outputs": [
    {
     "name": "stdout",
     "output_type": "stream",
     "text": [
      "row 1: [ 6  7  8  9 10]\n",
      "column 1: [2 7]\n"
     ]
    }
   ],
   "source": [
    "# Access entries of the array\n",
    "\n",
    "# Access a row\n",
    "print('row 1:', a_2d[1])\n",
    "\n",
    "# Acess a column\n",
    "print('column 1:', a_2d[:,1])"
   ]
  },
  {
   "cell_type": "code",
   "execution_count": 21,
   "metadata": {
    "collapsed": true
   },
   "outputs": [
    {
     "data": {
      "text/plain": [
       "array([3, 4, 5])"
      ]
     },
     "execution_count": 21,
     "metadata": {},
     "output_type": "execute_result"
    }
   ],
   "source": [
    "# Remember the indexing from the previous chapter, same for numpy arrays\n",
    "a_2d[0,2:]"
   ]
  },
  {
   "cell_type": "code",
   "execution_count": 22,
   "metadata": {
    "collapsed": true
   },
   "outputs": [
    {
     "data": {
      "text/plain": [
       "array([3, 4, 5])"
      ]
     },
     "execution_count": 22,
     "metadata": {},
     "output_type": "execute_result"
    }
   ],
   "source": [
    "# Alternative possibility\n",
    "a_2d[0][2:]"
   ]
  },
  {
   "cell_type": "code",
   "execution_count": 23,
   "metadata": {
    "collapsed": true
   },
   "outputs": [
    {
     "data": {
      "text/plain": [
       "10"
      ]
     },
     "execution_count": 23,
     "metadata": {},
     "output_type": "execute_result"
    }
   ],
   "source": [
    "# Last row, last column\n",
    "a_2d[-1][-1]"
   ]
  },
  {
   "cell_type": "code",
   "execution_count": 24,
   "metadata": {
    "collapsed": true
   },
   "outputs": [
    {
     "data": {
      "text/plain": [
       "4"
      ]
     },
     "execution_count": 24,
     "metadata": {},
     "output_type": "execute_result"
    }
   ],
   "source": [
    "# Second last row, second last column\n",
    "a_2d[-2][-2]"
   ]
  },
  {
   "cell_type": "code",
   "execution_count": 25,
   "metadata": {
    "collapsed": true
   },
   "outputs": [
    {
     "data": {
      "text/plain": [
       "array([[ 0,  2,  3,  4,  5],\n",
       "       [ 6,  7,  8,  9, 10]])"
      ]
     },
     "execution_count": 25,
     "metadata": {},
     "output_type": "execute_result"
    }
   ],
   "source": [
    "# Change value of a specific entry\n",
    "a_2d[0,0] = 0\n",
    "a_2d"
   ]
  },
  {
   "cell_type": "code",
   "execution_count": 26,
   "metadata": {
    "collapsed": true
   },
   "outputs": [
    {
     "data": {
      "text/plain": [
       "array([[42, 42, 42, 42, 42],\n",
       "       [ 6,  7,  8,  9, 10]])"
      ]
     },
     "execution_count": 26,
     "metadata": {},
     "output_type": "execute_result"
    }
   ],
   "source": [
    "# Change value of a specific row\n",
    "a_2d[0] = 42\n",
    "a_2d"
   ]
  },
  {
   "cell_type": "code",
   "execution_count": 27,
   "metadata": {
    "collapsed": true
   },
   "outputs": [
    {
     "name": "stdout",
     "output_type": "stream",
     "text": [
      "Shape of array: (2, 5)\n",
      "Shape of transposed array: (5, 2)\n"
     ]
    },
    {
     "data": {
      "text/plain": [
       "array([[42,  6],\n",
       "       [42,  7],\n",
       "       [42,  8],\n",
       "       [42,  9],\n",
       "       [42, 10]])"
      ]
     },
     "execution_count": 27,
     "metadata": {},
     "output_type": "execute_result"
    }
   ],
   "source": [
    "# Transpose the array\n",
    "print('Shape of array:', a_2d.shape)\n",
    "print('Shape of transposed array:', a_2d.T.shape)\n",
    "a_2d.T"
   ]
  },
  {
   "cell_type": "markdown",
   "metadata": {},
   "source": [
    "#### Selection of Sub-Arrays"
   ]
  },
  {
   "cell_type": "code",
   "execution_count": 28,
   "metadata": {
    "collapsed": true
   },
   "outputs": [
    {
     "data": {
      "text/plain": [
       "array([ 0,  1,  2,  3,  4,  5,  6,  7,  8,  9, 10, 11, 12, 13, 14, 15, 16,\n",
       "       17, 18, 19])"
      ]
     },
     "execution_count": 28,
     "metadata": {},
     "output_type": "execute_result"
    }
   ],
   "source": [
    "a = np.arange(0,20)\n",
    "a"
   ]
  },
  {
   "cell_type": "code",
   "execution_count": 29,
   "metadata": {
    "collapsed": true
   },
   "outputs": [
    {
     "name": "stdout",
     "output_type": "stream",
     "text": [
      "Mask: [ True  True False False False False False False False False False False\n",
      " False False False False False False False False]\n"
     ]
    },
    {
     "data": {
      "text/plain": [
       "array([0, 1])"
      ]
     },
     "execution_count": 29,
     "metadata": {},
     "output_type": "execute_result"
    }
   ],
   "source": [
    "# Selection of sub-arrays is done with so-called masks, containing booleans\n",
    "mask = a < 2\n",
    "print('Mask:', mask)\n",
    "a[mask]"
   ]
  },
  {
   "cell_type": "code",
   "execution_count": 30,
   "metadata": {
    "collapsed": true
   },
   "outputs": [
    {
     "data": {
      "text/plain": [
       "array([3, 4, 5, 6, 7, 8, 9])"
      ]
     },
     "execution_count": 30,
     "metadata": {},
     "output_type": "execute_result"
    }
   ],
   "source": [
    "# Mask with multiple conditions\n",
    "mask = (a > 2) & (a < 10)\n",
    "a[mask]"
   ]
  },
  {
   "cell_type": "code",
   "execution_count": 31,
   "metadata": {
    "collapsed": true
   },
   "outputs": [
    {
     "data": {
      "text/plain": [
       "array([ 0,  1, 18, 19])"
      ]
     },
     "execution_count": 31,
     "metadata": {},
     "output_type": "execute_result"
    }
   ],
   "source": [
    "# Mask with multiple conditions\n",
    "mask = (a > 17) | (a < 2)\n",
    "a[mask]"
   ]
  },
  {
   "cell_type": "code",
   "execution_count": 32,
   "metadata": {
    "collapsed": true
   },
   "outputs": [
    {
     "data": {
      "text/plain": [
       "array([100, 101, 102, 103, 104, 105, 106, 107, 108, 109, 110, 111, 112,\n",
       "       113, 114, 115, 116, 117, 118, 119])"
      ]
     },
     "execution_count": 32,
     "metadata": {},
     "output_type": "execute_result"
    }
   ],
   "source": [
    "b = np.arange(100,120)\n",
    "b"
   ]
  },
  {
   "cell_type": "markdown",
   "metadata": {},
   "source": [
    "#### Useful functions"
   ]
  },
  {
   "cell_type": "code",
   "execution_count": 33,
   "metadata": {
    "collapsed": true
   },
   "outputs": [
    {
     "data": {
      "text/plain": [
       "0.5197234989521826"
      ]
     },
     "execution_count": 33,
     "metadata": {},
     "output_type": "execute_result"
    }
   ],
   "source": [
    "# Random generator of one random number - uniform distribution between 0 and 1\n",
    "np.random.random()"
   ]
  },
  {
   "cell_type": "code",
   "execution_count": 34,
   "metadata": {
    "collapsed": true
   },
   "outputs": [
    {
     "data": {
      "text/plain": [
       "array([[0.24276049, 0.55566278, 0.03601156],\n",
       "       [0.64291455, 0.42962356, 0.04593152]])"
      ]
     },
     "execution_count": 34,
     "metadata": {},
     "output_type": "execute_result"
    }
   ],
   "source": [
    "# Random generator of a 2dim array - uniform distribution between 0 and 1\n",
    "np.random.random((2,3))"
   ]
  },
  {
   "cell_type": "code",
   "execution_count": 35,
   "metadata": {
    "collapsed": true
   },
   "outputs": [
    {
     "data": {
      "text/plain": [
       "array([ 1.22384995,  1.94548694, -0.07398076, -1.01636887,  0.14566567,\n",
       "       -0.86687913, -0.36590772, -0.95800163,  0.35429152, -0.10758847,\n",
       "       -1.00751121,  0.84663729, -1.48084824,  1.56266073, -0.22637452,\n",
       "       -1.51497904,  0.15002476,  0.67561   ,  1.08899415, -2.06173567])"
      ]
     },
     "execution_count": 35,
     "metadata": {},
     "output_type": "execute_result"
    }
   ],
   "source": [
    "# Random generator of 20 numbers - normal distribution with mean 0, std 1\n",
    "r = np.random.normal(0,1,20)\n",
    "r"
   ]
  },
  {
   "cell_type": "code",
   "execution_count": 36,
   "metadata": {
    "collapsed": true
   },
   "outputs": [
    {
     "data": {
      "text/plain": [
       "-1.6869542469650791"
      ]
     },
     "execution_count": 36,
     "metadata": {},
     "output_type": "execute_result"
    }
   ],
   "source": [
    "# Sum of array\n",
    "r.sum()"
   ]
  },
  {
   "cell_type": "code",
   "execution_count": 37,
   "metadata": {
    "collapsed": true
   },
   "outputs": [
    {
     "name": "stdout",
     "output_type": "stream",
     "text": [
      "Min:  -2.0617356738750603\n",
      "Max:  1.9454869376281472\n"
     ]
    }
   ],
   "source": [
    "# Minimum and Maximum of array\n",
    "print('Min: ', r.min())\n",
    "print('Max: ', r.max())"
   ]
  },
  {
   "cell_type": "code",
   "execution_count": 38,
   "metadata": {
    "collapsed": true
   },
   "outputs": [
    {
     "data": {
      "text/plain": [
       "array([ 1.22384995,  3.16933689,  3.09535614,  2.07898726,  2.22465294,\n",
       "        1.35777381,  0.99186609,  0.03386446,  0.38815598,  0.28056751,\n",
       "       -0.7269437 ,  0.11969359, -1.36115465,  0.20150607, -0.02486845,\n",
       "       -1.53984749, -1.38982273, -0.71421273,  0.37478143, -1.68695425])"
      ]
     },
     "execution_count": 38,
     "metadata": {},
     "output_type": "execute_result"
    }
   ],
   "source": [
    "# Cumulative sum\n",
    "r.cumsum()"
   ]
  },
  {
   "cell_type": "code",
   "execution_count": 39,
   "metadata": {
    "collapsed": true
   },
   "outputs": [
    {
     "data": {
      "text/plain": [
       "array([[0.74968576, 0.68880807, 0.80395255],\n",
       "       [0.26763378, 0.27534977, 0.55964197]])"
      ]
     },
     "execution_count": 39,
     "metadata": {},
     "output_type": "execute_result"
    }
   ],
   "source": [
    "# Random generator of a 2dim array - uniform distribution between 0 and 1\n",
    "r = np.random.random((2,3))\n",
    "r"
   ]
  },
  {
   "cell_type": "code",
   "execution_count": 40,
   "metadata": {
    "collapsed": true
   },
   "outputs": [
    {
     "name": "stdout",
     "output_type": "stream",
     "text": [
      "axis 0 [1.01731954 0.96415784 1.36359453]\n",
      "axis 1 [2.24244638 1.10262553]\n"
     ]
    }
   ],
   "source": [
    "# Sum of Ndim array along different axes (Same for min, max)\n",
    "print('axis 0', r.sum(axis=0))\n",
    "print('axis 1', r.sum(axis=1))"
   ]
  },
  {
   "cell_type": "code",
   "execution_count": 41,
   "metadata": {
    "collapsed": true
   },
   "outputs": [
    {
     "name": "stdout",
     "output_type": "stream",
     "text": [
      "x: [ 0.  1.  2.  3.  4.  5.  6.  7.  8.  9. 10.]\n"
     ]
    },
    {
     "data": {
      "text/plain": [
       "array([ 1.,  3.,  5.,  7.,  9., 11., 13., 15., 17., 19.])"
      ]
     },
     "execution_count": 41,
     "metadata": {},
     "output_type": "execute_result"
    }
   ],
   "source": [
    "# Difference between neighbouring entries\n",
    "x = np.linspace(0,10,11)\n",
    "print('x:', x)\n",
    "np.diff(x**2)"
   ]
  },
  {
   "cell_type": "code",
   "execution_count": 42,
   "metadata": {
    "collapsed": true
   },
   "outputs": [
    {
     "data": {
      "text/plain": [
       "3.141592653589793"
      ]
     },
     "execution_count": 42,
     "metadata": {},
     "output_type": "execute_result"
    }
   ],
   "source": [
    "# Pi\n",
    "np.pi"
   ]
  },
  {
   "cell_type": "code",
   "execution_count": 43,
   "metadata": {},
   "outputs": [
    {
     "name": "stdout",
     "output_type": "stream",
     "text": [
      "shape a: (2, 2)\n",
      "shape b: (2, 2)\n",
      "shape vstack(a,b): (4, 2)\n"
     ]
    },
    {
     "data": {
      "text/plain": [
       "array([['1', '2'],\n",
       "       ['3', '4'],\n",
       "       ['a', 'b'],\n",
       "       ['c', 'd']], dtype='<U21')"
      ]
     },
     "execution_count": 43,
     "metadata": {},
     "output_type": "execute_result"
    }
   ],
   "source": [
    "# Create some data\n",
    "a = np.array([[1,2],[3,4]])\n",
    "b = np.array([['a','b'], ['c','d']])\n",
    "\n",
    "# Shape of both arrays look like this\n",
    "print('shape a:', a.shape)\n",
    "print('shape b:', b.shape)\n",
    "\n",
    "# Shape of vstacked (vertically stacked) arrays is different\n",
    "print('shape vstack(a,b):', np.vstack((a,b)).shape)\n",
    "\n",
    "# This is how a vstacked arrray looks like\n",
    "np.vstack((a,b))"
   ]
  },
  {
   "cell_type": "code",
   "execution_count": 44,
   "metadata": {},
   "outputs": [
    {
     "name": "stdout",
     "output_type": "stream",
     "text": [
      "shape a: (2, 2)\n",
      "shape b: (3, 2)\n"
     ]
    },
    {
     "data": {
      "text/plain": [
       "array([['1', '2'],\n",
       "       ['3', '4'],\n",
       "       ['a', 'b'],\n",
       "       ['c', 'd'],\n",
       "       ['e', 'f']], dtype='<U21')"
      ]
     },
     "execution_count": 44,
     "metadata": {},
     "output_type": "execute_result"
    }
   ],
   "source": [
    "# Change the array a bit\n",
    "b = np.array([['a','b'], ['c','d'],['e','f']])\n",
    "\n",
    "# Shape of both arrays look like this\n",
    "print('shape a:', a.shape)\n",
    "print('shape b:', b.shape)\n",
    "\n",
    "# And try again\n",
    "np.vstack((a,b))"
   ]
  },
  {
   "cell_type": "code",
   "execution_count": 45,
   "metadata": {},
   "outputs": [
    {
     "name": "stdout",
     "output_type": "stream",
     "text": [
      "shape a: (2, 2)\n",
      "shape b: (2, 3)\n"
     ]
    },
    {
     "ename": "ValueError",
     "evalue": "all the input array dimensions except for the concatenation axis must match exactly",
     "output_type": "error",
     "traceback": [
      "\u001b[0;31m---------------------------------------------------------------------------\u001b[0m",
      "\u001b[0;31mValueError\u001b[0m                                Traceback (most recent call last)",
      "\u001b[0;32m<ipython-input-45-97a2b56e9954>\u001b[0m in \u001b[0;36m<module>\u001b[0;34m()\u001b[0m\n\u001b[1;32m      7\u001b[0m \u001b[0;34m\u001b[0m\u001b[0m\n\u001b[1;32m      8\u001b[0m \u001b[0;31m# And try again\u001b[0m\u001b[0;34m\u001b[0m\u001b[0;34m\u001b[0m\u001b[0m\n\u001b[0;32m----> 9\u001b[0;31m \u001b[0mnp\u001b[0m\u001b[0;34m.\u001b[0m\u001b[0mvstack\u001b[0m\u001b[0;34m(\u001b[0m\u001b[0;34m(\u001b[0m\u001b[0ma\u001b[0m\u001b[0;34m,\u001b[0m\u001b[0mb\u001b[0m\u001b[0;34m)\u001b[0m\u001b[0;34m)\u001b[0m\u001b[0;34m\u001b[0m\u001b[0m\n\u001b[0m",
      "\u001b[0;32m~/anaconda3/lib/python3.6/site-packages/numpy/core/shape_base.py\u001b[0m in \u001b[0;36mvstack\u001b[0;34m(tup)\u001b[0m\n\u001b[1;32m    232\u001b[0m \u001b[0;34m\u001b[0m\u001b[0m\n\u001b[1;32m    233\u001b[0m     \"\"\"\n\u001b[0;32m--> 234\u001b[0;31m     \u001b[0;32mreturn\u001b[0m \u001b[0m_nx\u001b[0m\u001b[0;34m.\u001b[0m\u001b[0mconcatenate\u001b[0m\u001b[0;34m(\u001b[0m\u001b[0;34m[\u001b[0m\u001b[0matleast_2d\u001b[0m\u001b[0;34m(\u001b[0m\u001b[0m_m\u001b[0m\u001b[0;34m)\u001b[0m \u001b[0;32mfor\u001b[0m \u001b[0m_m\u001b[0m \u001b[0;32min\u001b[0m \u001b[0mtup\u001b[0m\u001b[0;34m]\u001b[0m\u001b[0;34m,\u001b[0m \u001b[0;36m0\u001b[0m\u001b[0;34m)\u001b[0m\u001b[0;34m\u001b[0m\u001b[0m\n\u001b[0m\u001b[1;32m    235\u001b[0m \u001b[0;34m\u001b[0m\u001b[0m\n\u001b[1;32m    236\u001b[0m \u001b[0;32mdef\u001b[0m \u001b[0mhstack\u001b[0m\u001b[0;34m(\u001b[0m\u001b[0mtup\u001b[0m\u001b[0;34m)\u001b[0m\u001b[0;34m:\u001b[0m\u001b[0;34m\u001b[0m\u001b[0m\n",
      "\u001b[0;31mValueError\u001b[0m: all the input array dimensions except for the concatenation axis must match exactly"
     ]
    }
   ],
   "source": [
    "# Change the array a bit\n",
    "b = np.array([['a','b','c'], ['d','e','f']])\n",
    "\n",
    "# Shape of both arrays look like this\n",
    "print('shape a:', a.shape)\n",
    "print('shape b:', b.shape)\n",
    "\n",
    "# And try again\n",
    "np.vstack((a,b))"
   ]
  },
  {
   "cell_type": "code",
   "execution_count": 46,
   "metadata": {},
   "outputs": [
    {
     "name": "stdout",
     "output_type": "stream",
     "text": [
      "shape a: (2, 2)\n",
      "shape b: (3, 2)\n"
     ]
    },
    {
     "ename": "ValueError",
     "evalue": "all the input array dimensions except for the concatenation axis must match exactly",
     "output_type": "error",
     "traceback": [
      "\u001b[0;31m---------------------------------------------------------------------------\u001b[0m",
      "\u001b[0;31mValueError\u001b[0m                                Traceback (most recent call last)",
      "\u001b[0;32m<ipython-input-46-c2418d740299>\u001b[0m in \u001b[0;36m<module>\u001b[0;34m()\u001b[0m\n\u001b[1;32m      9\u001b[0m \u001b[0;34m\u001b[0m\u001b[0m\n\u001b[1;32m     10\u001b[0m \u001b[0;31m# And try again\u001b[0m\u001b[0;34m\u001b[0m\u001b[0;34m\u001b[0m\u001b[0m\n\u001b[0;32m---> 11\u001b[0;31m \u001b[0mnp\u001b[0m\u001b[0;34m.\u001b[0m\u001b[0mhstack\u001b[0m\u001b[0;34m(\u001b[0m\u001b[0;34m(\u001b[0m\u001b[0ma\u001b[0m\u001b[0;34m,\u001b[0m\u001b[0mb\u001b[0m\u001b[0;34m)\u001b[0m\u001b[0;34m)\u001b[0m\u001b[0;34m\u001b[0m\u001b[0m\n\u001b[0m",
      "\u001b[0;32m~/anaconda3/lib/python3.6/site-packages/numpy/core/shape_base.py\u001b[0m in \u001b[0;36mhstack\u001b[0;34m(tup)\u001b[0m\n\u001b[1;32m    286\u001b[0m         \u001b[0;32mreturn\u001b[0m \u001b[0m_nx\u001b[0m\u001b[0;34m.\u001b[0m\u001b[0mconcatenate\u001b[0m\u001b[0;34m(\u001b[0m\u001b[0marrs\u001b[0m\u001b[0;34m,\u001b[0m \u001b[0;36m0\u001b[0m\u001b[0;34m)\u001b[0m\u001b[0;34m\u001b[0m\u001b[0m\n\u001b[1;32m    287\u001b[0m     \u001b[0;32melse\u001b[0m\u001b[0;34m:\u001b[0m\u001b[0;34m\u001b[0m\u001b[0m\n\u001b[0;32m--> 288\u001b[0;31m         \u001b[0;32mreturn\u001b[0m \u001b[0m_nx\u001b[0m\u001b[0;34m.\u001b[0m\u001b[0mconcatenate\u001b[0m\u001b[0;34m(\u001b[0m\u001b[0marrs\u001b[0m\u001b[0;34m,\u001b[0m \u001b[0;36m1\u001b[0m\u001b[0;34m)\u001b[0m\u001b[0;34m\u001b[0m\u001b[0m\n\u001b[0m\u001b[1;32m    289\u001b[0m \u001b[0;34m\u001b[0m\u001b[0m\n\u001b[1;32m    290\u001b[0m \u001b[0;34m\u001b[0m\u001b[0m\n",
      "\u001b[0;31mValueError\u001b[0m: all the input array dimensions except for the concatenation axis must match exactly"
     ]
    }
   ],
   "source": [
    "# Let's do the same with hstack (horizontally stacked)\n",
    "\n",
    "# Change the array a bit\n",
    "b = np.array([['a','b'], ['c','d'],['e','f']])\n",
    "\n",
    "# Shape of both arrays look like this\n",
    "print('shape a:', a.shape)\n",
    "print('shape b:', b.shape)\n",
    "\n",
    "# And try again\n",
    "np.hstack((a,b))"
   ]
  },
  {
   "cell_type": "code",
   "execution_count": 47,
   "metadata": {},
   "outputs": [
    {
     "name": "stdout",
     "output_type": "stream",
     "text": [
      "shape a: (2, 2)\n",
      "shape b: (2, 3)\n"
     ]
    },
    {
     "data": {
      "text/plain": [
       "array([['1', '2', 'a', 'b', 'c'],\n",
       "       ['3', '4', 'd', 'e', 'f']], dtype='<U21')"
      ]
     },
     "execution_count": 47,
     "metadata": {},
     "output_type": "execute_result"
    }
   ],
   "source": [
    "# Change the array a bit\n",
    "b = np.array([['a','b','c'], ['d','e','f']])\n",
    "\n",
    "# Shape of both arrays look like this\n",
    "print('shape a:', a.shape)\n",
    "print('shape b:', b.shape)\n",
    "\n",
    "# And try again\n",
    "np.hstack((a,b))"
   ]
  },
  {
   "cell_type": "code",
   "execution_count": 48,
   "metadata": {},
   "outputs": [
    {
     "name": "stdout",
     "output_type": "stream",
     "text": [
      "shape a: (2, 2)\n",
      "shape b: (2, 3)\n"
     ]
    },
    {
     "data": {
      "text/plain": [
       "array([['1', '2', 'a', 'b', 'c'],\n",
       "       ['3', '4', 'd', 'e', 'f']], dtype='<U21')"
      ]
     },
     "execution_count": 48,
     "metadata": {},
     "output_type": "execute_result"
    }
   ],
   "source": [
    "# Have a look to column stack\n",
    "\n",
    "# Change the array a bit\n",
    "b = np.array([['a','b','c'], ['d','e','f']])\n",
    "\n",
    "# Shape of both arrays look like this\n",
    "print('shape a:', a.shape)\n",
    "print('shape b:', b.shape)\n",
    "\n",
    "# And try again\n",
    "np.column_stack((a,b))"
   ]
  },
  {
   "cell_type": "code",
   "execution_count": 49,
   "metadata": {},
   "outputs": [
    {
     "data": {
      "text/plain": [
       "[array([1, 2, 3, 4]), array([5, 6, 7, 8])]"
      ]
     },
     "execution_count": 49,
     "metadata": {},
     "output_type": "execute_result"
    }
   ],
   "source": [
    "c = np.array([1,2,3,4,5,6,7,8])\n",
    "\n",
    "# Split the array (horizontally) in two arrays\n",
    "np.hsplit(c,2)"
   ]
  },
  {
   "cell_type": "code",
   "execution_count": 50,
   "metadata": {},
   "outputs": [
    {
     "data": {
      "text/plain": [
       "[array([[1, 2]]), array([[3, 4]])]"
      ]
     },
     "execution_count": 50,
     "metadata": {},
     "output_type": "execute_result"
    }
   ],
   "source": [
    "# Split the array (vertically) in two arrays\n",
    "np.vsplit(a,2)"
   ]
  },
  {
   "cell_type": "code",
   "execution_count": null,
   "metadata": {
    "collapsed": true
   },
   "outputs": [],
   "source": []
  },
  {
   "cell_type": "markdown",
   "metadata": {},
   "source": [
    "#### Reading and writing files"
   ]
  },
  {
   "cell_type": "code",
   "execution_count": 51,
   "metadata": {},
   "outputs": [
    {
     "name": "stdout",
     "output_type": "stream",
     "text": [
      "0.000000000000000000e+00 5.263157894736842479e+00 1.052631578947368496e+01 1.578947368421052744e+01 2.105263157894736992e+01 2.631578947368421240e+01 3.157894736842105488e+01 3.684210526315789735e+01 4.210526315789473983e+01 4.736842105263158231e+01 5.263157894736842479e+01 5.789473684210526727e+01 6.315789473684210975e+01 6.842105263157895934e+01 7.368421052631579471e+01 7.894736842105263008e+01 8.421052631578947967e+01 8.947368421052632925e+01 9.473684210526316463e+01 1.000000000000000000e+02\n",
      "0.000000000000000000e+00 1.000000000000000000e+00 2.000000000000000000e+00 3.000000000000000000e+00 4.000000000000000000e+00 5.000000000000000000e+00 6.000000000000000000e+00 7.000000000000000000e+00 8.000000000000000000e+00 9.000000000000000000e+00 1.000000000000000000e+01 1.100000000000000000e+01 1.200000000000000000e+01 1.300000000000000000e+01 1.400000000000000000e+01 1.500000000000000000e+01 1.600000000000000000e+01 1.700000000000000000e+01 1.800000000000000000e+01 1.900000000000000000e+01\n",
      "\n"
     ]
    }
   ],
   "source": [
    "# Let's first create some data\n",
    "x = np.linspace(0,100,20)\n",
    "y = np.arange(20)\n",
    "\n",
    "# Now we save it\n",
    "np.savetxt('test.txt', [x,y])\n",
    "\n",
    "# And now we open it again\n",
    "with open('test.txt', 'r') as f:\n",
    "    print(f.read())"
   ]
  },
  {
   "cell_type": "code",
   "execution_count": 52,
   "metadata": {},
   "outputs": [
    {
     "name": "stdout",
     "output_type": "stream",
     "text": [
      "0.000000000000000000e+00 0.000000000000000000e+00\n",
      "5.263157894736842479e+00 1.000000000000000000e+00\n",
      "1.052631578947368496e+01 2.000000000000000000e+00\n",
      "1.578947368421052744e+01 3.000000000000000000e+00\n",
      "2.105263157894736992e+01 4.000000000000000000e+00\n",
      "2.631578947368421240e+01 5.000000000000000000e+00\n",
      "3.157894736842105488e+01 6.000000000000000000e+00\n",
      "3.684210526315789735e+01 7.000000000000000000e+00\n",
      "4.210526315789473983e+01 8.000000000000000000e+00\n",
      "4.736842105263158231e+01 9.000000000000000000e+00\n",
      "5.263157894736842479e+01 1.000000000000000000e+01\n",
      "5.789473684210526727e+01 1.100000000000000000e+01\n",
      "6.315789473684210975e+01 1.200000000000000000e+01\n",
      "6.842105263157895934e+01 1.300000000000000000e+01\n",
      "7.368421052631579471e+01 1.400000000000000000e+01\n",
      "7.894736842105263008e+01 1.500000000000000000e+01\n",
      "8.421052631578947967e+01 1.600000000000000000e+01\n",
      "8.947368421052632925e+01 1.700000000000000000e+01\n",
      "9.473684210526316463e+01 1.800000000000000000e+01\n",
      "1.000000000000000000e+02 1.900000000000000000e+01\n",
      "\n"
     ]
    }
   ],
   "source": [
    "# Now we save the data differently\n",
    "np.savetxt('test2.txt', np.column_stack([x,y]))\n",
    "\n",
    "with open('test2.txt', 'r') as f:\n",
    "    print(f.read())"
   ]
  },
  {
   "cell_type": "code",
   "execution_count": 53,
   "metadata": {},
   "outputs": [
    {
     "name": "stdout",
     "output_type": "stream",
     "text": [
      "# x y\n",
      "0.000000000000000000e+00 0.000000000000000000e+00\n",
      "5.263157894736842479e+00 1.000000000000000000e+00\n",
      "1.052631578947368496e+01 2.000000000000000000e+00\n",
      "1.578947368421052744e+01 3.000000000000000000e+00\n",
      "2.105263157894736992e+01 4.000000000000000000e+00\n",
      "2.631578947368421240e+01 5.000000000000000000e+00\n",
      "3.157894736842105488e+01 6.000000000000000000e+00\n",
      "3.684210526315789735e+01 7.000000000000000000e+00\n",
      "4.210526315789473983e+01 8.000000000000000000e+00\n",
      "4.736842105263158231e+01 9.000000000000000000e+00\n",
      "5.263157894736842479e+01 1.000000000000000000e+01\n",
      "5.789473684210526727e+01 1.100000000000000000e+01\n",
      "6.315789473684210975e+01 1.200000000000000000e+01\n",
      "6.842105263157895934e+01 1.300000000000000000e+01\n",
      "7.368421052631579471e+01 1.400000000000000000e+01\n",
      "7.894736842105263008e+01 1.500000000000000000e+01\n",
      "8.421052631578947967e+01 1.600000000000000000e+01\n",
      "8.947368421052632925e+01 1.700000000000000000e+01\n",
      "9.473684210526316463e+01 1.800000000000000000e+01\n",
      "1.000000000000000000e+02 1.900000000000000000e+01\n",
      "\n"
     ]
    }
   ],
   "source": [
    "# Now we also add a header (column names)\n",
    "np.savetxt('test3.txt', np.column_stack([x,y]), header='x y')\n",
    "\n",
    "with open('test3.txt', 'r') as f:\n",
    "    print(f.read())"
   ]
  },
  {
   "cell_type": "code",
   "execution_count": 54,
   "metadata": {},
   "outputs": [
    {
     "name": "stdout",
     "output_type": "stream",
     "text": [
      "a: \n",
      " [[  0.           0.        ]\n",
      " [  5.26315789   1.        ]\n",
      " [ 10.52631579   2.        ]\n",
      " [ 15.78947368   3.        ]\n",
      " [ 21.05263158   4.        ]\n",
      " [ 26.31578947   5.        ]\n",
      " [ 31.57894737   6.        ]\n",
      " [ 36.84210526   7.        ]\n",
      " [ 42.10526316   8.        ]\n",
      " [ 47.36842105   9.        ]\n",
      " [ 52.63157895  10.        ]\n",
      " [ 57.89473684  11.        ]\n",
      " [ 63.15789474  12.        ]\n",
      " [ 68.42105263  13.        ]\n",
      " [ 73.68421053  14.        ]\n",
      " [ 78.94736842  15.        ]\n",
      " [ 84.21052632  16.        ]\n",
      " [ 89.47368421  17.        ]\n",
      " [ 94.73684211  18.        ]\n",
      " [100.          19.        ]] \n",
      "\n",
      "a[0]: \n",
      " [0. 0.] \n",
      "\n",
      "a.T[0]: \n",
      " [  0.           5.26315789  10.52631579  15.78947368  21.05263158\n",
      "  26.31578947  31.57894737  36.84210526  42.10526316  47.36842105\n",
      "  52.63157895  57.89473684  63.15789474  68.42105263  73.68421053\n",
      "  78.94736842  84.21052632  89.47368421  94.73684211 100.        ]\n"
     ]
    }
   ],
   "source": [
    "# Read the file in again\n",
    "a = np.loadtxt('test3.txt')\n",
    "print('a: \\n', a, '\\n')\n",
    "print('a[0]: \\n', a[0], '\\n')\n",
    "print('a.T[0]: \\n', a.T[0])"
   ]
  },
  {
   "cell_type": "code",
   "execution_count": 55,
   "metadata": {},
   "outputs": [
    {
     "data": {
      "text/plain": [
       "(array([  0.        ,   5.26315789,  10.52631579,  15.78947368,\n",
       "         21.05263158,  26.31578947,  31.57894737,  36.84210526,\n",
       "         42.10526316,  47.36842105,  52.63157895,  57.89473684,\n",
       "         63.15789474,  68.42105263,  73.68421053,  78.94736842,\n",
       "         84.21052632,  89.47368421,  94.73684211, 100.        ]),\n",
       " array([ 0.,  1.,  2.,  3.,  4.,  5.,  6.,  7.,  8.,  9., 10., 11., 12.,\n",
       "        13., 14., 15., 16., 17., 18., 19.]))"
      ]
     },
     "execution_count": 55,
     "metadata": {},
     "output_type": "execute_result"
    }
   ],
   "source": [
    "a, b = np.genfromtxt('test3.txt', unpack=True)\n",
    "a, b"
   ]
  },
  {
   "cell_type": "code",
   "execution_count": null,
   "metadata": {
    "collapsed": true
   },
   "outputs": [],
   "source": []
  },
  {
   "cell_type": "markdown",
   "metadata": {},
   "source": [
    "## Pandas\n",
    "Pandas is based on NumPy. Here, the objects are called *DataFrames*.\n",
    "It offers nice visual inspections. Moreover, the code is easily readable.\n",
    "\n",
    "Pandas can also handle hdf5 format and convert tables to latex."
   ]
  },
  {
   "cell_type": "code",
   "execution_count": 56,
   "metadata": {
    "collapsed": true
   },
   "outputs": [],
   "source": [
    "# Again, we have to import the package first\n",
    "# At the same time, we introduce an abbrevation for it\n",
    "# Typically, pd is used for pandas\n",
    "import pandas as pd"
   ]
  },
  {
   "cell_type": "markdown",
   "metadata": {},
   "source": [
    "#### Reading"
   ]
  },
  {
   "cell_type": "code",
   "execution_count": 57,
   "metadata": {},
   "outputs": [
    {
     "data": {
      "text/html": [
       "<div>\n",
       "<style scoped>\n",
       "    .dataframe tbody tr th:only-of-type {\n",
       "        vertical-align: middle;\n",
       "    }\n",
       "\n",
       "    .dataframe tbody tr th {\n",
       "        vertical-align: top;\n",
       "    }\n",
       "\n",
       "    .dataframe thead th {\n",
       "        text-align: right;\n",
       "    }\n",
       "</style>\n",
       "<table border=\"1\" class=\"dataframe\">\n",
       "  <thead>\n",
       "    <tr style=\"text-align: right;\">\n",
       "      <th></th>\n",
       "      <th>0.000000000000000000e+00 0.000000000000000000e+00</th>\n",
       "    </tr>\n",
       "  </thead>\n",
       "  <tbody>\n",
       "    <tr>\n",
       "      <th>0</th>\n",
       "      <td>5.263157894736842479e+00 1.000000000000000000e+00</td>\n",
       "    </tr>\n",
       "    <tr>\n",
       "      <th>1</th>\n",
       "      <td>1.052631578947368496e+01 2.000000000000000000e+00</td>\n",
       "    </tr>\n",
       "    <tr>\n",
       "      <th>2</th>\n",
       "      <td>1.578947368421052744e+01 3.000000000000000000e+00</td>\n",
       "    </tr>\n",
       "    <tr>\n",
       "      <th>3</th>\n",
       "      <td>2.105263157894736992e+01 4.000000000000000000e+00</td>\n",
       "    </tr>\n",
       "    <tr>\n",
       "      <th>4</th>\n",
       "      <td>2.631578947368421240e+01 5.000000000000000000e+00</td>\n",
       "    </tr>\n",
       "    <tr>\n",
       "      <th>5</th>\n",
       "      <td>3.157894736842105488e+01 6.000000000000000000e+00</td>\n",
       "    </tr>\n",
       "    <tr>\n",
       "      <th>6</th>\n",
       "      <td>3.684210526315789735e+01 7.000000000000000000e+00</td>\n",
       "    </tr>\n",
       "    <tr>\n",
       "      <th>7</th>\n",
       "      <td>4.210526315789473983e+01 8.000000000000000000e+00</td>\n",
       "    </tr>\n",
       "    <tr>\n",
       "      <th>8</th>\n",
       "      <td>4.736842105263158231e+01 9.000000000000000000e+00</td>\n",
       "    </tr>\n",
       "    <tr>\n",
       "      <th>9</th>\n",
       "      <td>5.263157894736842479e+01 1.000000000000000000e+01</td>\n",
       "    </tr>\n",
       "    <tr>\n",
       "      <th>10</th>\n",
       "      <td>5.789473684210526727e+01 1.100000000000000000e+01</td>\n",
       "    </tr>\n",
       "    <tr>\n",
       "      <th>11</th>\n",
       "      <td>6.315789473684210975e+01 1.200000000000000000e+01</td>\n",
       "    </tr>\n",
       "    <tr>\n",
       "      <th>12</th>\n",
       "      <td>6.842105263157895934e+01 1.300000000000000000e+01</td>\n",
       "    </tr>\n",
       "    <tr>\n",
       "      <th>13</th>\n",
       "      <td>7.368421052631579471e+01 1.400000000000000000e+01</td>\n",
       "    </tr>\n",
       "    <tr>\n",
       "      <th>14</th>\n",
       "      <td>7.894736842105263008e+01 1.500000000000000000e+01</td>\n",
       "    </tr>\n",
       "    <tr>\n",
       "      <th>15</th>\n",
       "      <td>8.421052631578947967e+01 1.600000000000000000e+01</td>\n",
       "    </tr>\n",
       "    <tr>\n",
       "      <th>16</th>\n",
       "      <td>8.947368421052632925e+01 1.700000000000000000e+01</td>\n",
       "    </tr>\n",
       "    <tr>\n",
       "      <th>17</th>\n",
       "      <td>9.473684210526316463e+01 1.800000000000000000e+01</td>\n",
       "    </tr>\n",
       "    <tr>\n",
       "      <th>18</th>\n",
       "      <td>1.000000000000000000e+02 1.900000000000000000e+01</td>\n",
       "    </tr>\n",
       "  </tbody>\n",
       "</table>\n",
       "</div>"
      ],
      "text/plain": [
       "    0.000000000000000000e+00 0.000000000000000000e+00\n",
       "0   5.263157894736842479e+00 1.000000000000000000e+00\n",
       "1   1.052631578947368496e+01 2.000000000000000000e+00\n",
       "2   1.578947368421052744e+01 3.000000000000000000e+00\n",
       "3   2.105263157894736992e+01 4.000000000000000000e+00\n",
       "4   2.631578947368421240e+01 5.000000000000000000e+00\n",
       "5   3.157894736842105488e+01 6.000000000000000000e+00\n",
       "6   3.684210526315789735e+01 7.000000000000000000e+00\n",
       "7   4.210526315789473983e+01 8.000000000000000000e+00\n",
       "8   4.736842105263158231e+01 9.000000000000000000e+00\n",
       "9   5.263157894736842479e+01 1.000000000000000000e+01\n",
       "10  5.789473684210526727e+01 1.100000000000000000e+01\n",
       "11  6.315789473684210975e+01 1.200000000000000000e+01\n",
       "12  6.842105263157895934e+01 1.300000000000000000e+01\n",
       "13  7.368421052631579471e+01 1.400000000000000000e+01\n",
       "14  7.894736842105263008e+01 1.500000000000000000e+01\n",
       "15  8.421052631578947967e+01 1.600000000000000000e+01\n",
       "16  8.947368421052632925e+01 1.700000000000000000e+01\n",
       "17  9.473684210526316463e+01 1.800000000000000000e+01\n",
       "18  1.000000000000000000e+02 1.900000000000000000e+01"
      ]
     },
     "execution_count": 57,
     "metadata": {},
     "output_type": "execute_result"
    }
   ],
   "source": [
    "# Let's have a look to the files we created in the numpy section\n",
    "pd.read_csv('test2.txt')"
   ]
  },
  {
   "cell_type": "code",
   "execution_count": 58,
   "metadata": {},
   "outputs": [
    {
     "data": {
      "text/html": [
       "<div>\n",
       "<style scoped>\n",
       "    .dataframe tbody tr th:only-of-type {\n",
       "        vertical-align: middle;\n",
       "    }\n",
       "\n",
       "    .dataframe tbody tr th {\n",
       "        vertical-align: top;\n",
       "    }\n",
       "\n",
       "    .dataframe thead th {\n",
       "        text-align: right;\n",
       "    }\n",
       "</style>\n",
       "<table border=\"1\" class=\"dataframe\">\n",
       "  <thead>\n",
       "    <tr style=\"text-align: right;\">\n",
       "      <th></th>\n",
       "      <th>0.000000000000000000e+00</th>\n",
       "      <th>0.000000000000000000e+00.1</th>\n",
       "    </tr>\n",
       "  </thead>\n",
       "  <tbody>\n",
       "    <tr>\n",
       "      <th>0</th>\n",
       "      <td>5.263158</td>\n",
       "      <td>1.0</td>\n",
       "    </tr>\n",
       "    <tr>\n",
       "      <th>1</th>\n",
       "      <td>10.526316</td>\n",
       "      <td>2.0</td>\n",
       "    </tr>\n",
       "    <tr>\n",
       "      <th>2</th>\n",
       "      <td>15.789474</td>\n",
       "      <td>3.0</td>\n",
       "    </tr>\n",
       "    <tr>\n",
       "      <th>3</th>\n",
       "      <td>21.052632</td>\n",
       "      <td>4.0</td>\n",
       "    </tr>\n",
       "    <tr>\n",
       "      <th>4</th>\n",
       "      <td>26.315789</td>\n",
       "      <td>5.0</td>\n",
       "    </tr>\n",
       "    <tr>\n",
       "      <th>5</th>\n",
       "      <td>31.578947</td>\n",
       "      <td>6.0</td>\n",
       "    </tr>\n",
       "    <tr>\n",
       "      <th>6</th>\n",
       "      <td>36.842105</td>\n",
       "      <td>7.0</td>\n",
       "    </tr>\n",
       "    <tr>\n",
       "      <th>7</th>\n",
       "      <td>42.105263</td>\n",
       "      <td>8.0</td>\n",
       "    </tr>\n",
       "    <tr>\n",
       "      <th>8</th>\n",
       "      <td>47.368421</td>\n",
       "      <td>9.0</td>\n",
       "    </tr>\n",
       "    <tr>\n",
       "      <th>9</th>\n",
       "      <td>52.631579</td>\n",
       "      <td>10.0</td>\n",
       "    </tr>\n",
       "    <tr>\n",
       "      <th>10</th>\n",
       "      <td>57.894737</td>\n",
       "      <td>11.0</td>\n",
       "    </tr>\n",
       "    <tr>\n",
       "      <th>11</th>\n",
       "      <td>63.157895</td>\n",
       "      <td>12.0</td>\n",
       "    </tr>\n",
       "    <tr>\n",
       "      <th>12</th>\n",
       "      <td>68.421053</td>\n",
       "      <td>13.0</td>\n",
       "    </tr>\n",
       "    <tr>\n",
       "      <th>13</th>\n",
       "      <td>73.684211</td>\n",
       "      <td>14.0</td>\n",
       "    </tr>\n",
       "    <tr>\n",
       "      <th>14</th>\n",
       "      <td>78.947368</td>\n",
       "      <td>15.0</td>\n",
       "    </tr>\n",
       "    <tr>\n",
       "      <th>15</th>\n",
       "      <td>84.210526</td>\n",
       "      <td>16.0</td>\n",
       "    </tr>\n",
       "    <tr>\n",
       "      <th>16</th>\n",
       "      <td>89.473684</td>\n",
       "      <td>17.0</td>\n",
       "    </tr>\n",
       "    <tr>\n",
       "      <th>17</th>\n",
       "      <td>94.736842</td>\n",
       "      <td>18.0</td>\n",
       "    </tr>\n",
       "    <tr>\n",
       "      <th>18</th>\n",
       "      <td>100.000000</td>\n",
       "      <td>19.0</td>\n",
       "    </tr>\n",
       "  </tbody>\n",
       "</table>\n",
       "</div>"
      ],
      "text/plain": [
       "    0.000000000000000000e+00  0.000000000000000000e+00.1\n",
       "0                   5.263158                         1.0\n",
       "1                  10.526316                         2.0\n",
       "2                  15.789474                         3.0\n",
       "3                  21.052632                         4.0\n",
       "4                  26.315789                         5.0\n",
       "5                  31.578947                         6.0\n",
       "6                  36.842105                         7.0\n",
       "7                  42.105263                         8.0\n",
       "8                  47.368421                         9.0\n",
       "9                  52.631579                        10.0\n",
       "10                 57.894737                        11.0\n",
       "11                 63.157895                        12.0\n",
       "12                 68.421053                        13.0\n",
       "13                 73.684211                        14.0\n",
       "14                 78.947368                        15.0\n",
       "15                 84.210526                        16.0\n",
       "16                 89.473684                        17.0\n",
       "17                 94.736842                        18.0\n",
       "18                100.000000                        19.0"
      ]
     },
     "execution_count": 58,
     "metadata": {},
     "output_type": "execute_result"
    }
   ],
   "source": [
    "# Something is not ok... it is reading the complete line, instead of different entries\n",
    "# Let's tell him a bit about the file - e.g. the separator between the entries is a space\n",
    "pd.read_csv('test2.txt', sep=' ')"
   ]
  },
  {
   "cell_type": "code",
   "execution_count": 59,
   "metadata": {},
   "outputs": [
    {
     "data": {
      "text/html": [
       "<div>\n",
       "<style scoped>\n",
       "    .dataframe tbody tr th:only-of-type {\n",
       "        vertical-align: middle;\n",
       "    }\n",
       "\n",
       "    .dataframe tbody tr th {\n",
       "        vertical-align: top;\n",
       "    }\n",
       "\n",
       "    .dataframe thead th {\n",
       "        text-align: right;\n",
       "    }\n",
       "</style>\n",
       "<table border=\"1\" class=\"dataframe\">\n",
       "  <thead>\n",
       "    <tr style=\"text-align: right;\">\n",
       "      <th></th>\n",
       "      <th>x</th>\n",
       "      <th>y</th>\n",
       "    </tr>\n",
       "  </thead>\n",
       "  <tbody>\n",
       "    <tr>\n",
       "      <th>0</th>\n",
       "      <td>0.000000</td>\n",
       "      <td>0.0</td>\n",
       "    </tr>\n",
       "    <tr>\n",
       "      <th>1</th>\n",
       "      <td>5.263158</td>\n",
       "      <td>1.0</td>\n",
       "    </tr>\n",
       "    <tr>\n",
       "      <th>2</th>\n",
       "      <td>10.526316</td>\n",
       "      <td>2.0</td>\n",
       "    </tr>\n",
       "    <tr>\n",
       "      <th>3</th>\n",
       "      <td>15.789474</td>\n",
       "      <td>3.0</td>\n",
       "    </tr>\n",
       "    <tr>\n",
       "      <th>4</th>\n",
       "      <td>21.052632</td>\n",
       "      <td>4.0</td>\n",
       "    </tr>\n",
       "    <tr>\n",
       "      <th>5</th>\n",
       "      <td>26.315789</td>\n",
       "      <td>5.0</td>\n",
       "    </tr>\n",
       "    <tr>\n",
       "      <th>6</th>\n",
       "      <td>31.578947</td>\n",
       "      <td>6.0</td>\n",
       "    </tr>\n",
       "    <tr>\n",
       "      <th>7</th>\n",
       "      <td>36.842105</td>\n",
       "      <td>7.0</td>\n",
       "    </tr>\n",
       "    <tr>\n",
       "      <th>8</th>\n",
       "      <td>42.105263</td>\n",
       "      <td>8.0</td>\n",
       "    </tr>\n",
       "    <tr>\n",
       "      <th>9</th>\n",
       "      <td>47.368421</td>\n",
       "      <td>9.0</td>\n",
       "    </tr>\n",
       "    <tr>\n",
       "      <th>10</th>\n",
       "      <td>52.631579</td>\n",
       "      <td>10.0</td>\n",
       "    </tr>\n",
       "    <tr>\n",
       "      <th>11</th>\n",
       "      <td>57.894737</td>\n",
       "      <td>11.0</td>\n",
       "    </tr>\n",
       "    <tr>\n",
       "      <th>12</th>\n",
       "      <td>63.157895</td>\n",
       "      <td>12.0</td>\n",
       "    </tr>\n",
       "    <tr>\n",
       "      <th>13</th>\n",
       "      <td>68.421053</td>\n",
       "      <td>13.0</td>\n",
       "    </tr>\n",
       "    <tr>\n",
       "      <th>14</th>\n",
       "      <td>73.684211</td>\n",
       "      <td>14.0</td>\n",
       "    </tr>\n",
       "    <tr>\n",
       "      <th>15</th>\n",
       "      <td>78.947368</td>\n",
       "      <td>15.0</td>\n",
       "    </tr>\n",
       "    <tr>\n",
       "      <th>16</th>\n",
       "      <td>84.210526</td>\n",
       "      <td>16.0</td>\n",
       "    </tr>\n",
       "    <tr>\n",
       "      <th>17</th>\n",
       "      <td>89.473684</td>\n",
       "      <td>17.0</td>\n",
       "    </tr>\n",
       "    <tr>\n",
       "      <th>18</th>\n",
       "      <td>94.736842</td>\n",
       "      <td>18.0</td>\n",
       "    </tr>\n",
       "    <tr>\n",
       "      <th>19</th>\n",
       "      <td>100.000000</td>\n",
       "      <td>19.0</td>\n",
       "    </tr>\n",
       "  </tbody>\n",
       "</table>\n",
       "</div>"
      ],
      "text/plain": [
       "             x     y\n",
       "0     0.000000   0.0\n",
       "1     5.263158   1.0\n",
       "2    10.526316   2.0\n",
       "3    15.789474   3.0\n",
       "4    21.052632   4.0\n",
       "5    26.315789   5.0\n",
       "6    31.578947   6.0\n",
       "7    36.842105   7.0\n",
       "8    42.105263   8.0\n",
       "9    47.368421   9.0\n",
       "10   52.631579  10.0\n",
       "11   57.894737  11.0\n",
       "12   63.157895  12.0\n",
       "13   68.421053  13.0\n",
       "14   73.684211  14.0\n",
       "15   78.947368  15.0\n",
       "16   84.210526  16.0\n",
       "17   89.473684  17.0\n",
       "18   94.736842  18.0\n",
       "19  100.000000  19.0"
      ]
     },
     "execution_count": 59,
     "metadata": {},
     "output_type": "execute_result"
    }
   ],
   "source": [
    "# Ok, almost... it is expecting a header which the file does not have\n",
    "pd.read_csv('test2.txt', sep=' ', names=['x','y'])"
   ]
  },
  {
   "cell_type": "code",
   "execution_count": 60,
   "metadata": {
    "collapsed": true
   },
   "outputs": [
    {
     "data": {
      "text/html": [
       "<div>\n",
       "<style scoped>\n",
       "    .dataframe tbody tr th:only-of-type {\n",
       "        vertical-align: middle;\n",
       "    }\n",
       "\n",
       "    .dataframe tbody tr th {\n",
       "        vertical-align: top;\n",
       "    }\n",
       "\n",
       "    .dataframe thead th {\n",
       "        text-align: right;\n",
       "    }\n",
       "</style>\n",
       "<table border=\"1\" class=\"dataframe\">\n",
       "  <thead>\n",
       "    <tr style=\"text-align: right;\">\n",
       "      <th></th>\n",
       "      <th># This is a file containing data from 2 Cherenkov Telescopes</th>\n",
       "    </tr>\n",
       "  </thead>\n",
       "  <tbody>\n",
       "    <tr>\n",
       "      <th>0</th>\n",
       "      <td># The number specifies the telescope</td>\n",
       "    </tr>\n",
       "    <tr>\n",
       "      <th>1</th>\n",
       "      <td>#</td>\n",
       "    </tr>\n",
       "    <tr>\n",
       "      <th>2</th>\n",
       "      <td># Description of the features</td>\n",
       "    </tr>\n",
       "    <tr>\n",
       "      <th>3</th>\n",
       "      <td># Length: Length of Hillas ellipse</td>\n",
       "    </tr>\n",
       "    <tr>\n",
       "      <th>4</th>\n",
       "      <td># Width: Width of Hillas ellipse</td>\n",
       "    </tr>\n",
       "    <tr>\n",
       "      <th>5</th>\n",
       "      <td># Size: Sum of all charges</td>\n",
       "    </tr>\n",
       "    <tr>\n",
       "      <th>6</th>\n",
       "      <td># Hadronness: Indicating particle type</td>\n",
       "    </tr>\n",
       "    <tr>\n",
       "      <th>7</th>\n",
       "      <td>#</td>\n",
       "    </tr>\n",
       "    <tr>\n",
       "      <th>8</th>\n",
       "      <td>Length1 Width1 Size1 Length2 Width2 Size2 Ener...</td>\n",
       "    </tr>\n",
       "    <tr>\n",
       "      <th>9</th>\n",
       "      <td>75.4124 29.4279 1672.8 59.6897 26.7615 2118.77...</td>\n",
       "    </tr>\n",
       "    <tr>\n",
       "      <th>10</th>\n",
       "      <td>57.7336 20.8956 760.578 56.0803 31.6496 1160.5...</td>\n",
       "    </tr>\n",
       "    <tr>\n",
       "      <th>11</th>\n",
       "      <td>18.7674 18.0485 56.1875 17.5254 11.8229 56.812...</td>\n",
       "    </tr>\n",
       "    <tr>\n",
       "      <th>12</th>\n",
       "      <td>62.7512 27.3413 1555.16 60.9768 32.2978 1519.8...</td>\n",
       "    </tr>\n",
       "    <tr>\n",
       "      <th>13</th>\n",
       "      <td>50.9237 22.7845 622.352 67.5829 28.0278 2022.2...</td>\n",
       "    </tr>\n",
       "    <tr>\n",
       "      <th>14</th>\n",
       "      <td>55.0872 26.0323 1554.05 78.1673 34.5042 7360 6...</td>\n",
       "    </tr>\n",
       "    <tr>\n",
       "      <th>15</th>\n",
       "      <td>63.5209 25.0671 808.055 50.8012 23.7339 502.90...</td>\n",
       "    </tr>\n",
       "    <tr>\n",
       "      <th>16</th>\n",
       "      <td>73.2049 33.0173 12674.7 51.4093 32.8175 3265.6...</td>\n",
       "    </tr>\n",
       "    <tr>\n",
       "      <th>17</th>\n",
       "      <td>83.9538 29.1 3379.82 66.9842 29.0803 1957.11 5...</td>\n",
       "    </tr>\n",
       "    <tr>\n",
       "      <th>18</th>\n",
       "      <td>85.886 31.2477 10361.3 63.8771 31.4983 1891.22...</td>\n",
       "    </tr>\n",
       "    <tr>\n",
       "      <th>19</th>\n",
       "      <td>14.3905 11.1324 32.0703 55.9085 13.6481 68.734...</td>\n",
       "    </tr>\n",
       "    <tr>\n",
       "      <th>20</th>\n",
       "      <td>40.7194 14.8057 188.172 34.9396 22.183 169.562...</td>\n",
       "    </tr>\n",
       "    <tr>\n",
       "      <th>21</th>\n",
       "      <td>65.859 31.8889 1339.47 71.1719 27.0684 862.992...</td>\n",
       "    </tr>\n",
       "    <tr>\n",
       "      <th>22</th>\n",
       "      <td>11.9245 11.4037 36.625 25.5917 21.9873 65.0938...</td>\n",
       "    </tr>\n",
       "    <tr>\n",
       "      <th>23</th>\n",
       "      <td>73.9113 47.4503 30939.3 80.6979 68.4395 47242....</td>\n",
       "    </tr>\n",
       "    <tr>\n",
       "      <th>24</th>\n",
       "      <td>58.6865 35.2033 855.262 64.5047 45.2628 802.46...</td>\n",
       "    </tr>\n",
       "    <tr>\n",
       "      <th>25</th>\n",
       "      <td>39.6412 16.7535 298.125 40.5173 18.663 485.367...</td>\n",
       "    </tr>\n",
       "    <tr>\n",
       "      <th>26</th>\n",
       "      <td>48.8786 26.2712 1579.24 66.1945 34.2769 8523.1...</td>\n",
       "    </tr>\n",
       "    <tr>\n",
       "      <th>27</th>\n",
       "      <td>82.0151 25.1746 1939.89 56.7749 23.6295 283.37...</td>\n",
       "    </tr>\n",
       "    <tr>\n",
       "      <th>28</th>\n",
       "      <td>62.0239 25.0857 1075.08 59.8207 28.4741 1163.4...</td>\n",
       "    </tr>\n",
       "    <tr>\n",
       "      <th>29</th>\n",
       "      <td>23.3594 13.7574 37.1562 37.9319 22.1391 335.85...</td>\n",
       "    </tr>\n",
       "    <tr>\n",
       "      <th>...</th>\n",
       "      <td>...</td>\n",
       "    </tr>\n",
       "    <tr>\n",
       "      <th>70</th>\n",
       "      <td>72.8949 25.095 470.219 68.5438 27.1335 341.422...</td>\n",
       "    </tr>\n",
       "    <tr>\n",
       "      <th>71</th>\n",
       "      <td>54.3526 29.4159 292.656 57.8233 22.2448 275.00...</td>\n",
       "    </tr>\n",
       "    <tr>\n",
       "      <th>72</th>\n",
       "      <td>26.5213 16.6673 74.3516 22.5481 13.4729 38.742...</td>\n",
       "    </tr>\n",
       "    <tr>\n",
       "      <th>73</th>\n",
       "      <td>30.0289 20.5551 298.438 46.4912 31.6505 466.64...</td>\n",
       "    </tr>\n",
       "    <tr>\n",
       "      <th>74</th>\n",
       "      <td>53.1377 23.1242 1293.92 60.1877 26.9649 2056.8...</td>\n",
       "    </tr>\n",
       "    <tr>\n",
       "      <th>75</th>\n",
       "      <td>22.5862 11.5664 50.1094 29.3801 13.0337 78.367...</td>\n",
       "    </tr>\n",
       "    <tr>\n",
       "      <th>76</th>\n",
       "      <td>101.04 21.6903 781.109 65.3884 30.9976 1280.79...</td>\n",
       "    </tr>\n",
       "    <tr>\n",
       "      <th>77</th>\n",
       "      <td>19.6103 16.4292 51.6719 30.2519 16.4037 149.18...</td>\n",
       "    </tr>\n",
       "    <tr>\n",
       "      <th>78</th>\n",
       "      <td>68.0232 22.7076 647.453 63.3524 22.3137 649.43...</td>\n",
       "    </tr>\n",
       "    <tr>\n",
       "      <th>79</th>\n",
       "      <td>53.3609 26.0103 1384.13 64.3753 30.9224 1589.2...</td>\n",
       "    </tr>\n",
       "    <tr>\n",
       "      <th>80</th>\n",
       "      <td>49.5414 19.9145 306.391 46.9777 20.628 564.594...</td>\n",
       "    </tr>\n",
       "    <tr>\n",
       "      <th>81</th>\n",
       "      <td>48.4005 16.4382 145.43 29.42 17.3482 87.2109 9...</td>\n",
       "    </tr>\n",
       "    <tr>\n",
       "      <th>82</th>\n",
       "      <td>37.0765 21.4172 157.805 43.6277 18.1224 150.5 ...</td>\n",
       "    </tr>\n",
       "    <tr>\n",
       "      <th>83</th>\n",
       "      <td>60.0832 23.7348 442.812 57.3457 26.8934 398.72...</td>\n",
       "    </tr>\n",
       "    <tr>\n",
       "      <th>84</th>\n",
       "      <td>56.6119 20.0902 216.211 77.8869 23.1269 506.19...</td>\n",
       "    </tr>\n",
       "    <tr>\n",
       "      <th>85</th>\n",
       "      <td>39.4482 21.2892 472.922 61.4621 28.3788 4105.3...</td>\n",
       "    </tr>\n",
       "    <tr>\n",
       "      <th>86</th>\n",
       "      <td>45.9843 17.7721 157.945 70.7316 19.3191 326.03...</td>\n",
       "    </tr>\n",
       "    <tr>\n",
       "      <th>87</th>\n",
       "      <td>63.6502 26.099 812.797 65.2181 20.8692 279.664...</td>\n",
       "    </tr>\n",
       "    <tr>\n",
       "      <th>88</th>\n",
       "      <td>63.5961 35.0981 4839.03 66.2806 35.4938 5383.4...</td>\n",
       "    </tr>\n",
       "    <tr>\n",
       "      <th>89</th>\n",
       "      <td>24.6122 18.0829 117.695 23.1138 15.5152 80.960...</td>\n",
       "    </tr>\n",
       "    <tr>\n",
       "      <th>90</th>\n",
       "      <td>46.8757 19.9493 207.789 34.0537 11.0144 49.992...</td>\n",
       "    </tr>\n",
       "    <tr>\n",
       "      <th>91</th>\n",
       "      <td>86.8943 30.9958 10747 90.6596 40.4637 13109.3 ...</td>\n",
       "    </tr>\n",
       "    <tr>\n",
       "      <th>92</th>\n",
       "      <td>62.2304 32.9116 3191.92 54.6931 30.9662 3647.4...</td>\n",
       "    </tr>\n",
       "    <tr>\n",
       "      <th>93</th>\n",
       "      <td>25.3921 15.0906 98.6875 33.3355 14.1 95.0469 1...</td>\n",
       "    </tr>\n",
       "    <tr>\n",
       "      <th>94</th>\n",
       "      <td>36.1949 27.4185 720.828 49.5122 33.2083 862.40...</td>\n",
       "    </tr>\n",
       "    <tr>\n",
       "      <th>95</th>\n",
       "      <td>58.5725 28.6942 2087.34 80.8396 34.8754 7302.7...</td>\n",
       "    </tr>\n",
       "    <tr>\n",
       "      <th>96</th>\n",
       "      <td>48.8776 20.211 178.609 34.0806 12.8011 68.7656...</td>\n",
       "    </tr>\n",
       "    <tr>\n",
       "      <th>97</th>\n",
       "      <td>86.4294 22.335 880.992 69.0651 25.0697 668.492...</td>\n",
       "    </tr>\n",
       "    <tr>\n",
       "      <th>98</th>\n",
       "      <td>26.3359 14.1786 88.6641 29.1319 21.883 82.5547...</td>\n",
       "    </tr>\n",
       "    <tr>\n",
       "      <th>99</th>\n",
       "      <td>42.7413 22.9412 276.609 54.4804 18.0811 186.28...</td>\n",
       "    </tr>\n",
       "  </tbody>\n",
       "</table>\n",
       "<p>100 rows × 1 columns</p>\n",
       "</div>"
      ],
      "text/plain": [
       "   # This is a file containing data from 2 Cherenkov Telescopes\n",
       "0                # The number specifies the telescope          \n",
       "1                                                   #          \n",
       "2                       # Description of the features          \n",
       "3                  # Length: Length of Hillas ellipse          \n",
       "4                    # Width: Width of Hillas ellipse          \n",
       "5                          # Size: Sum of all charges          \n",
       "6              # Hadronness: Indicating particle type          \n",
       "7                                                   #          \n",
       "8   Length1 Width1 Size1 Length2 Width2 Size2 Ener...          \n",
       "9   75.4124 29.4279 1672.8 59.6897 26.7615 2118.77...          \n",
       "10  57.7336 20.8956 760.578 56.0803 31.6496 1160.5...          \n",
       "11  18.7674 18.0485 56.1875 17.5254 11.8229 56.812...          \n",
       "12  62.7512 27.3413 1555.16 60.9768 32.2978 1519.8...          \n",
       "13  50.9237 22.7845 622.352 67.5829 28.0278 2022.2...          \n",
       "14  55.0872 26.0323 1554.05 78.1673 34.5042 7360 6...          \n",
       "15  63.5209 25.0671 808.055 50.8012 23.7339 502.90...          \n",
       "16  73.2049 33.0173 12674.7 51.4093 32.8175 3265.6...          \n",
       "17  83.9538 29.1 3379.82 66.9842 29.0803 1957.11 5...          \n",
       "18  85.886 31.2477 10361.3 63.8771 31.4983 1891.22...          \n",
       "19  14.3905 11.1324 32.0703 55.9085 13.6481 68.734...          \n",
       "20  40.7194 14.8057 188.172 34.9396 22.183 169.562...          \n",
       "21  65.859 31.8889 1339.47 71.1719 27.0684 862.992...          \n",
       "22  11.9245 11.4037 36.625 25.5917 21.9873 65.0938...          \n",
       "23  73.9113 47.4503 30939.3 80.6979 68.4395 47242....          \n",
       "24  58.6865 35.2033 855.262 64.5047 45.2628 802.46...          \n",
       "25  39.6412 16.7535 298.125 40.5173 18.663 485.367...          \n",
       "26  48.8786 26.2712 1579.24 66.1945 34.2769 8523.1...          \n",
       "27  82.0151 25.1746 1939.89 56.7749 23.6295 283.37...          \n",
       "28  62.0239 25.0857 1075.08 59.8207 28.4741 1163.4...          \n",
       "29  23.3594 13.7574 37.1562 37.9319 22.1391 335.85...          \n",
       "..                                                ...          \n",
       "70  72.8949 25.095 470.219 68.5438 27.1335 341.422...          \n",
       "71  54.3526 29.4159 292.656 57.8233 22.2448 275.00...          \n",
       "72  26.5213 16.6673 74.3516 22.5481 13.4729 38.742...          \n",
       "73  30.0289 20.5551 298.438 46.4912 31.6505 466.64...          \n",
       "74  53.1377 23.1242 1293.92 60.1877 26.9649 2056.8...          \n",
       "75  22.5862 11.5664 50.1094 29.3801 13.0337 78.367...          \n",
       "76  101.04 21.6903 781.109 65.3884 30.9976 1280.79...          \n",
       "77  19.6103 16.4292 51.6719 30.2519 16.4037 149.18...          \n",
       "78  68.0232 22.7076 647.453 63.3524 22.3137 649.43...          \n",
       "79  53.3609 26.0103 1384.13 64.3753 30.9224 1589.2...          \n",
       "80  49.5414 19.9145 306.391 46.9777 20.628 564.594...          \n",
       "81  48.4005 16.4382 145.43 29.42 17.3482 87.2109 9...          \n",
       "82  37.0765 21.4172 157.805 43.6277 18.1224 150.5 ...          \n",
       "83  60.0832 23.7348 442.812 57.3457 26.8934 398.72...          \n",
       "84  56.6119 20.0902 216.211 77.8869 23.1269 506.19...          \n",
       "85  39.4482 21.2892 472.922 61.4621 28.3788 4105.3...          \n",
       "86  45.9843 17.7721 157.945 70.7316 19.3191 326.03...          \n",
       "87  63.6502 26.099 812.797 65.2181 20.8692 279.664...          \n",
       "88  63.5961 35.0981 4839.03 66.2806 35.4938 5383.4...          \n",
       "89  24.6122 18.0829 117.695 23.1138 15.5152 80.960...          \n",
       "90  46.8757 19.9493 207.789 34.0537 11.0144 49.992...          \n",
       "91  86.8943 30.9958 10747 90.6596 40.4637 13109.3 ...          \n",
       "92  62.2304 32.9116 3191.92 54.6931 30.9662 3647.4...          \n",
       "93  25.3921 15.0906 98.6875 33.3355 14.1 95.0469 1...          \n",
       "94  36.1949 27.4185 720.828 49.5122 33.2083 862.40...          \n",
       "95  58.5725 28.6942 2087.34 80.8396 34.8754 7302.7...          \n",
       "96  48.8776 20.211 178.609 34.0806 12.8011 68.7656...          \n",
       "97  86.4294 22.335 880.992 69.0651 25.0697 668.492...          \n",
       "98  26.3359 14.1786 88.6641 29.1319 21.883 82.5547...          \n",
       "99  42.7413 22.9412 276.609 54.4804 18.0811 186.28...          \n",
       "\n",
       "[100 rows x 1 columns]"
      ]
     },
     "execution_count": 60,
     "metadata": {},
     "output_type": "execute_result"
    }
   ],
   "source": [
    "# Read a more complex files now\n",
    "df = pd.read_csv('Data_small.csv')\n",
    "df"
   ]
  },
  {
   "cell_type": "code",
   "execution_count": 61,
   "metadata": {},
   "outputs": [
    {
     "data": {
      "text/html": [
       "<div>\n",
       "<style scoped>\n",
       "    .dataframe tbody tr th:only-of-type {\n",
       "        vertical-align: middle;\n",
       "    }\n",
       "\n",
       "    .dataframe tbody tr th {\n",
       "        vertical-align: top;\n",
       "    }\n",
       "\n",
       "    .dataframe thead th {\n",
       "        text-align: right;\n",
       "    }\n",
       "</style>\n",
       "<table border=\"1\" class=\"dataframe\">\n",
       "  <thead>\n",
       "    <tr style=\"text-align: right;\">\n",
       "      <th></th>\n",
       "      <th>Length1</th>\n",
       "      <th>Width1</th>\n",
       "      <th>Size1</th>\n",
       "      <th>Length2</th>\n",
       "      <th>Width2</th>\n",
       "      <th>Size2</th>\n",
       "      <th>Energy</th>\n",
       "      <th>Hadronness</th>\n",
       "    </tr>\n",
       "  </thead>\n",
       "  <tbody>\n",
       "    <tr>\n",
       "      <th>0</th>\n",
       "      <td>75.4124</td>\n",
       "      <td>29.4279</td>\n",
       "      <td>1672.8000</td>\n",
       "      <td>59.6897</td>\n",
       "      <td>26.7615</td>\n",
       "      <td>2118.7700</td>\n",
       "      <td>891.7410</td>\n",
       "      <td>0.009167</td>\n",
       "    </tr>\n",
       "    <tr>\n",
       "      <th>1</th>\n",
       "      <td>57.7336</td>\n",
       "      <td>20.8956</td>\n",
       "      <td>760.5780</td>\n",
       "      <td>56.0803</td>\n",
       "      <td>31.6496</td>\n",
       "      <td>1160.5800</td>\n",
       "      <td>618.7040</td>\n",
       "      <td>0.163583</td>\n",
       "    </tr>\n",
       "    <tr>\n",
       "      <th>2</th>\n",
       "      <td>18.7674</td>\n",
       "      <td>18.0485</td>\n",
       "      <td>56.1875</td>\n",
       "      <td>17.5254</td>\n",
       "      <td>11.8229</td>\n",
       "      <td>56.8125</td>\n",
       "      <td>78.3127</td>\n",
       "      <td>0.245667</td>\n",
       "    </tr>\n",
       "    <tr>\n",
       "      <th>3</th>\n",
       "      <td>62.7512</td>\n",
       "      <td>27.3413</td>\n",
       "      <td>1555.1600</td>\n",
       "      <td>60.9768</td>\n",
       "      <td>32.2978</td>\n",
       "      <td>1519.8200</td>\n",
       "      <td>699.2440</td>\n",
       "      <td>0.055498</td>\n",
       "    </tr>\n",
       "    <tr>\n",
       "      <th>4</th>\n",
       "      <td>50.9237</td>\n",
       "      <td>22.7845</td>\n",
       "      <td>622.3520</td>\n",
       "      <td>67.5829</td>\n",
       "      <td>28.0278</td>\n",
       "      <td>2022.2500</td>\n",
       "      <td>2046.4400</td>\n",
       "      <td>0.005833</td>\n",
       "    </tr>\n",
       "    <tr>\n",
       "      <th>5</th>\n",
       "      <td>55.0872</td>\n",
       "      <td>26.0323</td>\n",
       "      <td>1554.0500</td>\n",
       "      <td>78.1673</td>\n",
       "      <td>34.5042</td>\n",
       "      <td>7360.0000</td>\n",
       "      <td>6758.7800</td>\n",
       "      <td>0.000000</td>\n",
       "    </tr>\n",
       "    <tr>\n",
       "      <th>6</th>\n",
       "      <td>63.5209</td>\n",
       "      <td>25.0671</td>\n",
       "      <td>808.0550</td>\n",
       "      <td>50.8012</td>\n",
       "      <td>23.7339</td>\n",
       "      <td>502.9060</td>\n",
       "      <td>1851.4500</td>\n",
       "      <td>0.039286</td>\n",
       "    </tr>\n",
       "    <tr>\n",
       "      <th>7</th>\n",
       "      <td>73.2049</td>\n",
       "      <td>33.0173</td>\n",
       "      <td>12674.7000</td>\n",
       "      <td>51.4093</td>\n",
       "      <td>32.8175</td>\n",
       "      <td>3265.6800</td>\n",
       "      <td>27952.1000</td>\n",
       "      <td>0.016333</td>\n",
       "    </tr>\n",
       "    <tr>\n",
       "      <th>8</th>\n",
       "      <td>83.9538</td>\n",
       "      <td>29.1000</td>\n",
       "      <td>3379.8200</td>\n",
       "      <td>66.9842</td>\n",
       "      <td>29.0803</td>\n",
       "      <td>1957.1100</td>\n",
       "      <td>5800.2700</td>\n",
       "      <td>0.000000</td>\n",
       "    </tr>\n",
       "    <tr>\n",
       "      <th>9</th>\n",
       "      <td>85.8860</td>\n",
       "      <td>31.2477</td>\n",
       "      <td>10361.3000</td>\n",
       "      <td>63.8771</td>\n",
       "      <td>31.4983</td>\n",
       "      <td>1891.2200</td>\n",
       "      <td>7402.9400</td>\n",
       "      <td>0.001667</td>\n",
       "    </tr>\n",
       "    <tr>\n",
       "      <th>10</th>\n",
       "      <td>14.3905</td>\n",
       "      <td>11.1324</td>\n",
       "      <td>32.0703</td>\n",
       "      <td>55.9085</td>\n",
       "      <td>13.6481</td>\n",
       "      <td>68.7344</td>\n",
       "      <td>427.0900</td>\n",
       "      <td>0.946246</td>\n",
       "    </tr>\n",
       "    <tr>\n",
       "      <th>11</th>\n",
       "      <td>40.7194</td>\n",
       "      <td>14.8057</td>\n",
       "      <td>188.1720</td>\n",
       "      <td>34.9396</td>\n",
       "      <td>22.1830</td>\n",
       "      <td>169.5620</td>\n",
       "      <td>113.8370</td>\n",
       "      <td>0.018091</td>\n",
       "    </tr>\n",
       "    <tr>\n",
       "      <th>12</th>\n",
       "      <td>65.8590</td>\n",
       "      <td>31.8889</td>\n",
       "      <td>1339.4700</td>\n",
       "      <td>71.1719</td>\n",
       "      <td>27.0684</td>\n",
       "      <td>862.9920</td>\n",
       "      <td>947.0080</td>\n",
       "      <td>0.373571</td>\n",
       "    </tr>\n",
       "    <tr>\n",
       "      <th>13</th>\n",
       "      <td>11.9245</td>\n",
       "      <td>11.4037</td>\n",
       "      <td>36.6250</td>\n",
       "      <td>25.5917</td>\n",
       "      <td>21.9873</td>\n",
       "      <td>65.0938</td>\n",
       "      <td>38.4349</td>\n",
       "      <td>0.384298</td>\n",
       "    </tr>\n",
       "    <tr>\n",
       "      <th>14</th>\n",
       "      <td>73.9113</td>\n",
       "      <td>47.4503</td>\n",
       "      <td>30939.3000</td>\n",
       "      <td>80.6979</td>\n",
       "      <td>68.4395</td>\n",
       "      <td>47242.8000</td>\n",
       "      <td>17805.9000</td>\n",
       "      <td>0.106333</td>\n",
       "    </tr>\n",
       "    <tr>\n",
       "      <th>15</th>\n",
       "      <td>58.6865</td>\n",
       "      <td>35.2033</td>\n",
       "      <td>855.2620</td>\n",
       "      <td>64.5047</td>\n",
       "      <td>45.2628</td>\n",
       "      <td>802.4610</td>\n",
       "      <td>613.0100</td>\n",
       "      <td>0.937333</td>\n",
       "    </tr>\n",
       "    <tr>\n",
       "      <th>16</th>\n",
       "      <td>39.6412</td>\n",
       "      <td>16.7535</td>\n",
       "      <td>298.1250</td>\n",
       "      <td>40.5173</td>\n",
       "      <td>18.6630</td>\n",
       "      <td>485.3670</td>\n",
       "      <td>222.1900</td>\n",
       "      <td>0.018607</td>\n",
       "    </tr>\n",
       "    <tr>\n",
       "      <th>17</th>\n",
       "      <td>48.8786</td>\n",
       "      <td>26.2712</td>\n",
       "      <td>1579.2400</td>\n",
       "      <td>66.1945</td>\n",
       "      <td>34.2769</td>\n",
       "      <td>8523.1200</td>\n",
       "      <td>2210.7200</td>\n",
       "      <td>0.018333</td>\n",
       "    </tr>\n",
       "    <tr>\n",
       "      <th>18</th>\n",
       "      <td>82.0151</td>\n",
       "      <td>25.1746</td>\n",
       "      <td>1939.8900</td>\n",
       "      <td>56.7749</td>\n",
       "      <td>23.6295</td>\n",
       "      <td>283.3750</td>\n",
       "      <td>718.7890</td>\n",
       "      <td>0.047222</td>\n",
       "    </tr>\n",
       "    <tr>\n",
       "      <th>19</th>\n",
       "      <td>62.0239</td>\n",
       "      <td>25.0857</td>\n",
       "      <td>1075.0800</td>\n",
       "      <td>59.8207</td>\n",
       "      <td>28.4741</td>\n",
       "      <td>1163.4500</td>\n",
       "      <td>274.5200</td>\n",
       "      <td>0.087262</td>\n",
       "    </tr>\n",
       "  </tbody>\n",
       "</table>\n",
       "</div>"
      ],
      "text/plain": [
       "    Length1   Width1       Size1  Length2   Width2       Size2      Energy  \\\n",
       "0   75.4124  29.4279   1672.8000  59.6897  26.7615   2118.7700    891.7410   \n",
       "1   57.7336  20.8956    760.5780  56.0803  31.6496   1160.5800    618.7040   \n",
       "2   18.7674  18.0485     56.1875  17.5254  11.8229     56.8125     78.3127   \n",
       "3   62.7512  27.3413   1555.1600  60.9768  32.2978   1519.8200    699.2440   \n",
       "4   50.9237  22.7845    622.3520  67.5829  28.0278   2022.2500   2046.4400   \n",
       "5   55.0872  26.0323   1554.0500  78.1673  34.5042   7360.0000   6758.7800   \n",
       "6   63.5209  25.0671    808.0550  50.8012  23.7339    502.9060   1851.4500   \n",
       "7   73.2049  33.0173  12674.7000  51.4093  32.8175   3265.6800  27952.1000   \n",
       "8   83.9538  29.1000   3379.8200  66.9842  29.0803   1957.1100   5800.2700   \n",
       "9   85.8860  31.2477  10361.3000  63.8771  31.4983   1891.2200   7402.9400   \n",
       "10  14.3905  11.1324     32.0703  55.9085  13.6481     68.7344    427.0900   \n",
       "11  40.7194  14.8057    188.1720  34.9396  22.1830    169.5620    113.8370   \n",
       "12  65.8590  31.8889   1339.4700  71.1719  27.0684    862.9920    947.0080   \n",
       "13  11.9245  11.4037     36.6250  25.5917  21.9873     65.0938     38.4349   \n",
       "14  73.9113  47.4503  30939.3000  80.6979  68.4395  47242.8000  17805.9000   \n",
       "15  58.6865  35.2033    855.2620  64.5047  45.2628    802.4610    613.0100   \n",
       "16  39.6412  16.7535    298.1250  40.5173  18.6630    485.3670    222.1900   \n",
       "17  48.8786  26.2712   1579.2400  66.1945  34.2769   8523.1200   2210.7200   \n",
       "18  82.0151  25.1746   1939.8900  56.7749  23.6295    283.3750    718.7890   \n",
       "19  62.0239  25.0857   1075.0800  59.8207  28.4741   1163.4500    274.5200   \n",
       "\n",
       "    Hadronness  \n",
       "0     0.009167  \n",
       "1     0.163583  \n",
       "2     0.245667  \n",
       "3     0.055498  \n",
       "4     0.005833  \n",
       "5     0.000000  \n",
       "6     0.039286  \n",
       "7     0.016333  \n",
       "8     0.000000  \n",
       "9     0.001667  \n",
       "10    0.946246  \n",
       "11    0.018091  \n",
       "12    0.373571  \n",
       "13    0.384298  \n",
       "14    0.106333  \n",
       "15    0.937333  \n",
       "16    0.018607  \n",
       "17    0.018333  \n",
       "18    0.047222  \n",
       "19    0.087262  "
      ]
     },
     "execution_count": 61,
     "metadata": {},
     "output_type": "execute_result"
    }
   ],
   "source": [
    "# Read a more complex files now\n",
    "df = pd.read_csv('Data_small.csv', sep=' ', skiprows=9)\n",
    "df[:20]"
   ]
  },
  {
   "cell_type": "markdown",
   "metadata": {},
   "source": [
    "#### Accessing (indexing) pandas dataframes"
   ]
  },
  {
   "cell_type": "code",
   "execution_count": 62,
   "metadata": {},
   "outputs": [
    {
     "data": {
      "text/html": [
       "<div>\n",
       "<style scoped>\n",
       "    .dataframe tbody tr th:only-of-type {\n",
       "        vertical-align: middle;\n",
       "    }\n",
       "\n",
       "    .dataframe tbody tr th {\n",
       "        vertical-align: top;\n",
       "    }\n",
       "\n",
       "    .dataframe thead th {\n",
       "        text-align: right;\n",
       "    }\n",
       "</style>\n",
       "<table border=\"1\" class=\"dataframe\">\n",
       "  <thead>\n",
       "    <tr style=\"text-align: right;\">\n",
       "      <th></th>\n",
       "      <th>Length1</th>\n",
       "      <th>Width1</th>\n",
       "      <th>Size1</th>\n",
       "      <th>Length2</th>\n",
       "      <th>Width2</th>\n",
       "      <th>Size2</th>\n",
       "      <th>Energy</th>\n",
       "      <th>Hadronness</th>\n",
       "    </tr>\n",
       "  </thead>\n",
       "  <tbody>\n",
       "    <tr>\n",
       "      <th>0</th>\n",
       "      <td>75.4124</td>\n",
       "      <td>29.4279</td>\n",
       "      <td>1672.8000</td>\n",
       "      <td>59.6897</td>\n",
       "      <td>26.7615</td>\n",
       "      <td>2118.7700</td>\n",
       "      <td>891.7410</td>\n",
       "      <td>0.009167</td>\n",
       "    </tr>\n",
       "    <tr>\n",
       "      <th>1</th>\n",
       "      <td>57.7336</td>\n",
       "      <td>20.8956</td>\n",
       "      <td>760.5780</td>\n",
       "      <td>56.0803</td>\n",
       "      <td>31.6496</td>\n",
       "      <td>1160.5800</td>\n",
       "      <td>618.7040</td>\n",
       "      <td>0.163583</td>\n",
       "    </tr>\n",
       "    <tr>\n",
       "      <th>2</th>\n",
       "      <td>18.7674</td>\n",
       "      <td>18.0485</td>\n",
       "      <td>56.1875</td>\n",
       "      <td>17.5254</td>\n",
       "      <td>11.8229</td>\n",
       "      <td>56.8125</td>\n",
       "      <td>78.3127</td>\n",
       "      <td>0.245667</td>\n",
       "    </tr>\n",
       "    <tr>\n",
       "      <th>3</th>\n",
       "      <td>62.7512</td>\n",
       "      <td>27.3413</td>\n",
       "      <td>1555.1600</td>\n",
       "      <td>60.9768</td>\n",
       "      <td>32.2978</td>\n",
       "      <td>1519.8200</td>\n",
       "      <td>699.2440</td>\n",
       "      <td>0.055498</td>\n",
       "    </tr>\n",
       "    <tr>\n",
       "      <th>4</th>\n",
       "      <td>50.9237</td>\n",
       "      <td>22.7845</td>\n",
       "      <td>622.3520</td>\n",
       "      <td>67.5829</td>\n",
       "      <td>28.0278</td>\n",
       "      <td>2022.2500</td>\n",
       "      <td>2046.4400</td>\n",
       "      <td>0.005833</td>\n",
       "    </tr>\n",
       "  </tbody>\n",
       "</table>\n",
       "</div>"
      ],
      "text/plain": [
       "   Length1   Width1      Size1  Length2   Width2      Size2     Energy  \\\n",
       "0  75.4124  29.4279  1672.8000  59.6897  26.7615  2118.7700   891.7410   \n",
       "1  57.7336  20.8956   760.5780  56.0803  31.6496  1160.5800   618.7040   \n",
       "2  18.7674  18.0485    56.1875  17.5254  11.8229    56.8125    78.3127   \n",
       "3  62.7512  27.3413  1555.1600  60.9768  32.2978  1519.8200   699.2440   \n",
       "4  50.9237  22.7845   622.3520  67.5829  28.0278  2022.2500  2046.4400   \n",
       "\n",
       "   Hadronness  \n",
       "0    0.009167  \n",
       "1    0.163583  \n",
       "2    0.245667  \n",
       "3    0.055498  \n",
       "4    0.005833  "
      ]
     },
     "execution_count": 62,
     "metadata": {},
     "output_type": "execute_result"
    }
   ],
   "source": [
    "# First let's shorten the list a bit and copy to other variable\n",
    "d = df[0:5].copy()\n",
    "d"
   ]
  },
  {
   "cell_type": "code",
   "execution_count": 63,
   "metadata": {},
   "outputs": [
    {
     "data": {
      "text/plain": [
       "0    75.4124\n",
       "1    57.7336\n",
       "2    18.7674\n",
       "3    62.7512\n",
       "4    50.9237\n",
       "Name: Length1, dtype: float64"
      ]
     },
     "execution_count": 63,
     "metadata": {},
     "output_type": "execute_result"
    }
   ],
   "source": [
    "# Access of columns\n",
    "d.Length1"
   ]
  },
  {
   "cell_type": "code",
   "execution_count": 64,
   "metadata": {},
   "outputs": [
    {
     "data": {
      "text/plain": [
       "0    75.4124\n",
       "1    57.7336\n",
       "2    18.7674\n",
       "3    62.7512\n",
       "4    50.9237\n",
       "Name: Length1, dtype: float64"
      ]
     },
     "execution_count": 64,
     "metadata": {},
     "output_type": "execute_result"
    }
   ],
   "source": [
    "# Alternative access\n",
    "d['Length1']"
   ]
  },
  {
   "cell_type": "code",
   "execution_count": 65,
   "metadata": {},
   "outputs": [
    {
     "data": {
      "text/html": [
       "<div>\n",
       "<style scoped>\n",
       "    .dataframe tbody tr th:only-of-type {\n",
       "        vertical-align: middle;\n",
       "    }\n",
       "\n",
       "    .dataframe tbody tr th {\n",
       "        vertical-align: top;\n",
       "    }\n",
       "\n",
       "    .dataframe thead th {\n",
       "        text-align: right;\n",
       "    }\n",
       "</style>\n",
       "<table border=\"1\" class=\"dataframe\">\n",
       "  <thead>\n",
       "    <tr style=\"text-align: right;\">\n",
       "      <th></th>\n",
       "      <th>Length1</th>\n",
       "      <th>Width1</th>\n",
       "      <th>Size1</th>\n",
       "      <th>Length2</th>\n",
       "      <th>Width2</th>\n",
       "      <th>Size2</th>\n",
       "      <th>Energy</th>\n",
       "      <th>Hadronness</th>\n",
       "    </tr>\n",
       "  </thead>\n",
       "  <tbody>\n",
       "    <tr>\n",
       "      <th>0</th>\n",
       "      <td>75.4124</td>\n",
       "      <td>29.4279</td>\n",
       "      <td>1672.8</td>\n",
       "      <td>59.6897</td>\n",
       "      <td>26.7615</td>\n",
       "      <td>2118.77</td>\n",
       "      <td>891.741</td>\n",
       "      <td>0.009167</td>\n",
       "    </tr>\n",
       "  </tbody>\n",
       "</table>\n",
       "</div>"
      ],
      "text/plain": [
       "   Length1   Width1   Size1  Length2   Width2    Size2   Energy  Hadronness\n",
       "0  75.4124  29.4279  1672.8  59.6897  26.7615  2118.77  891.741    0.009167"
      ]
     },
     "execution_count": 65,
     "metadata": {},
     "output_type": "execute_result"
    }
   ],
   "source": [
    "# Access of a row\n",
    "d[0:1]"
   ]
  },
  {
   "cell_type": "code",
   "execution_count": 66,
   "metadata": {},
   "outputs": [
    {
     "data": {
      "text/html": [
       "<div>\n",
       "<style scoped>\n",
       "    .dataframe tbody tr th:only-of-type {\n",
       "        vertical-align: middle;\n",
       "    }\n",
       "\n",
       "    .dataframe tbody tr th {\n",
       "        vertical-align: top;\n",
       "    }\n",
       "\n",
       "    .dataframe thead th {\n",
       "        text-align: right;\n",
       "    }\n",
       "</style>\n",
       "<table border=\"1\" class=\"dataframe\">\n",
       "  <thead>\n",
       "    <tr style=\"text-align: right;\">\n",
       "      <th></th>\n",
       "      <th>Length1</th>\n",
       "      <th>Width1</th>\n",
       "      <th>Size1</th>\n",
       "      <th>Length2</th>\n",
       "      <th>Width2</th>\n",
       "      <th>Size2</th>\n",
       "      <th>Energy</th>\n",
       "      <th>Hadronness</th>\n",
       "    </tr>\n",
       "  </thead>\n",
       "  <tbody>\n",
       "    <tr>\n",
       "      <th>2</th>\n",
       "      <td>18.7674</td>\n",
       "      <td>18.0485</td>\n",
       "      <td>56.1875</td>\n",
       "      <td>17.5254</td>\n",
       "      <td>11.8229</td>\n",
       "      <td>56.8125</td>\n",
       "      <td>78.3127</td>\n",
       "      <td>0.245667</td>\n",
       "    </tr>\n",
       "    <tr>\n",
       "      <th>3</th>\n",
       "      <td>62.7512</td>\n",
       "      <td>27.3413</td>\n",
       "      <td>1555.1600</td>\n",
       "      <td>60.9768</td>\n",
       "      <td>32.2978</td>\n",
       "      <td>1519.8200</td>\n",
       "      <td>699.2440</td>\n",
       "      <td>0.055498</td>\n",
       "    </tr>\n",
       "  </tbody>\n",
       "</table>\n",
       "</div>"
      ],
      "text/plain": [
       "   Length1   Width1      Size1  Length2   Width2      Size2    Energy  \\\n",
       "2  18.7674  18.0485    56.1875  17.5254  11.8229    56.8125   78.3127   \n",
       "3  62.7512  27.3413  1555.1600  60.9768  32.2978  1519.8200  699.2440   \n",
       "\n",
       "   Hadronness  \n",
       "2    0.245667  \n",
       "3    0.055498  "
      ]
     },
     "execution_count": 66,
     "metadata": {},
     "output_type": "execute_result"
    }
   ],
   "source": [
    "# Access of a subset - same as before\n",
    "d[2:4]"
   ]
  },
  {
   "cell_type": "code",
   "execution_count": 67,
   "metadata": {},
   "outputs": [
    {
     "data": {
      "text/html": [
       "<div>\n",
       "<style scoped>\n",
       "    .dataframe tbody tr th:only-of-type {\n",
       "        vertical-align: middle;\n",
       "    }\n",
       "\n",
       "    .dataframe tbody tr th {\n",
       "        vertical-align: top;\n",
       "    }\n",
       "\n",
       "    .dataframe thead th {\n",
       "        text-align: right;\n",
       "    }\n",
       "</style>\n",
       "<table border=\"1\" class=\"dataframe\">\n",
       "  <thead>\n",
       "    <tr style=\"text-align: right;\">\n",
       "      <th></th>\n",
       "      <th>Length1</th>\n",
       "      <th>Width1</th>\n",
       "      <th>Size1</th>\n",
       "      <th>Length2</th>\n",
       "      <th>Width2</th>\n",
       "      <th>Size2</th>\n",
       "      <th>Energy</th>\n",
       "      <th>Hadronness</th>\n",
       "    </tr>\n",
       "  </thead>\n",
       "  <tbody>\n",
       "    <tr>\n",
       "      <th>1</th>\n",
       "      <td>57.7336</td>\n",
       "      <td>20.8956</td>\n",
       "      <td>760.5780</td>\n",
       "      <td>56.0803</td>\n",
       "      <td>31.6496</td>\n",
       "      <td>1160.5800</td>\n",
       "      <td>618.7040</td>\n",
       "      <td>0.163583</td>\n",
       "    </tr>\n",
       "    <tr>\n",
       "      <th>2</th>\n",
       "      <td>18.7674</td>\n",
       "      <td>18.0485</td>\n",
       "      <td>56.1875</td>\n",
       "      <td>17.5254</td>\n",
       "      <td>11.8229</td>\n",
       "      <td>56.8125</td>\n",
       "      <td>78.3127</td>\n",
       "      <td>0.245667</td>\n",
       "    </tr>\n",
       "    <tr>\n",
       "      <th>4</th>\n",
       "      <td>50.9237</td>\n",
       "      <td>22.7845</td>\n",
       "      <td>622.3520</td>\n",
       "      <td>67.5829</td>\n",
       "      <td>28.0278</td>\n",
       "      <td>2022.2500</td>\n",
       "      <td>2046.4400</td>\n",
       "      <td>0.005833</td>\n",
       "    </tr>\n",
       "  </tbody>\n",
       "</table>\n",
       "</div>"
      ],
      "text/plain": [
       "   Length1   Width1     Size1  Length2   Width2      Size2     Energy  \\\n",
       "1  57.7336  20.8956  760.5780  56.0803  31.6496  1160.5800   618.7040   \n",
       "2  18.7674  18.0485   56.1875  17.5254  11.8229    56.8125    78.3127   \n",
       "4  50.9237  22.7845  622.3520  67.5829  28.0278  2022.2500  2046.4400   \n",
       "\n",
       "   Hadronness  \n",
       "1    0.163583  \n",
       "2    0.245667  \n",
       "4    0.005833  "
      ]
     },
     "execution_count": 67,
     "metadata": {},
     "output_type": "execute_result"
    }
   ],
   "source": [
    "# Mask with one condition\n",
    "d[d.Length1 < 60]"
   ]
  },
  {
   "cell_type": "code",
   "execution_count": 68,
   "metadata": {},
   "outputs": [
    {
     "data": {
      "text/html": [
       "<div>\n",
       "<style scoped>\n",
       "    .dataframe tbody tr th:only-of-type {\n",
       "        vertical-align: middle;\n",
       "    }\n",
       "\n",
       "    .dataframe tbody tr th {\n",
       "        vertical-align: top;\n",
       "    }\n",
       "\n",
       "    .dataframe thead th {\n",
       "        text-align: right;\n",
       "    }\n",
       "</style>\n",
       "<table border=\"1\" class=\"dataframe\">\n",
       "  <thead>\n",
       "    <tr style=\"text-align: right;\">\n",
       "      <th></th>\n",
       "      <th>Length1</th>\n",
       "      <th>Width1</th>\n",
       "      <th>Size1</th>\n",
       "      <th>Length2</th>\n",
       "      <th>Width2</th>\n",
       "      <th>Size2</th>\n",
       "      <th>Energy</th>\n",
       "      <th>Hadronness</th>\n",
       "    </tr>\n",
       "  </thead>\n",
       "  <tbody>\n",
       "    <tr>\n",
       "      <th>1</th>\n",
       "      <td>57.7336</td>\n",
       "      <td>20.8956</td>\n",
       "      <td>760.578</td>\n",
       "      <td>56.0803</td>\n",
       "      <td>31.6496</td>\n",
       "      <td>1160.58</td>\n",
       "      <td>618.704</td>\n",
       "      <td>0.163583</td>\n",
       "    </tr>\n",
       "    <tr>\n",
       "      <th>4</th>\n",
       "      <td>50.9237</td>\n",
       "      <td>22.7845</td>\n",
       "      <td>622.352</td>\n",
       "      <td>67.5829</td>\n",
       "      <td>28.0278</td>\n",
       "      <td>2022.25</td>\n",
       "      <td>2046.440</td>\n",
       "      <td>0.005833</td>\n",
       "    </tr>\n",
       "  </tbody>\n",
       "</table>\n",
       "</div>"
      ],
      "text/plain": [
       "   Length1   Width1    Size1  Length2   Width2    Size2    Energy  Hadronness\n",
       "1  57.7336  20.8956  760.578  56.0803  31.6496  1160.58   618.704    0.163583\n",
       "4  50.9237  22.7845  622.352  67.5829  28.0278  2022.25  2046.440    0.005833"
      ]
     },
     "execution_count": 68,
     "metadata": {},
     "output_type": "execute_result"
    }
   ],
   "source": [
    "# Mask with mulitple conditions\n",
    "d[(d.Length1 < 60) & (d.Width1 > 20)]"
   ]
  },
  {
   "cell_type": "markdown",
   "metadata": {},
   "source": [
    "#### Useful functions"
   ]
  },
  {
   "cell_type": "code",
   "execution_count": 69,
   "metadata": {},
   "outputs": [
    {
     "data": {
      "text/html": [
       "<div>\n",
       "<style scoped>\n",
       "    .dataframe tbody tr th:only-of-type {\n",
       "        vertical-align: middle;\n",
       "    }\n",
       "\n",
       "    .dataframe tbody tr th {\n",
       "        vertical-align: top;\n",
       "    }\n",
       "\n",
       "    .dataframe thead th {\n",
       "        text-align: right;\n",
       "    }\n",
       "</style>\n",
       "<table border=\"1\" class=\"dataframe\">\n",
       "  <thead>\n",
       "    <tr style=\"text-align: right;\">\n",
       "      <th></th>\n",
       "      <th>Length1</th>\n",
       "      <th>Width1</th>\n",
       "      <th>Size1</th>\n",
       "      <th>Length2</th>\n",
       "      <th>Width2</th>\n",
       "      <th>Size2</th>\n",
       "      <th>Energy</th>\n",
       "      <th>Hadronness</th>\n",
       "    </tr>\n",
       "  </thead>\n",
       "  <tbody>\n",
       "    <tr>\n",
       "      <th>0</th>\n",
       "      <td>75.4124</td>\n",
       "      <td>29.4279</td>\n",
       "      <td>1672.8000</td>\n",
       "      <td>59.6897</td>\n",
       "      <td>26.7615</td>\n",
       "      <td>2118.7700</td>\n",
       "      <td>891.7410</td>\n",
       "      <td>0.009167</td>\n",
       "    </tr>\n",
       "    <tr>\n",
       "      <th>1</th>\n",
       "      <td>57.7336</td>\n",
       "      <td>20.8956</td>\n",
       "      <td>760.5780</td>\n",
       "      <td>56.0803</td>\n",
       "      <td>31.6496</td>\n",
       "      <td>1160.5800</td>\n",
       "      <td>618.7040</td>\n",
       "      <td>0.163583</td>\n",
       "    </tr>\n",
       "    <tr>\n",
       "      <th>2</th>\n",
       "      <td>18.7674</td>\n",
       "      <td>18.0485</td>\n",
       "      <td>56.1875</td>\n",
       "      <td>17.5254</td>\n",
       "      <td>11.8229</td>\n",
       "      <td>56.8125</td>\n",
       "      <td>78.3127</td>\n",
       "      <td>0.245667</td>\n",
       "    </tr>\n",
       "    <tr>\n",
       "      <th>3</th>\n",
       "      <td>62.7512</td>\n",
       "      <td>27.3413</td>\n",
       "      <td>1555.1600</td>\n",
       "      <td>60.9768</td>\n",
       "      <td>32.2978</td>\n",
       "      <td>1519.8200</td>\n",
       "      <td>699.2440</td>\n",
       "      <td>0.055498</td>\n",
       "    </tr>\n",
       "    <tr>\n",
       "      <th>4</th>\n",
       "      <td>50.9237</td>\n",
       "      <td>22.7845</td>\n",
       "      <td>622.3520</td>\n",
       "      <td>67.5829</td>\n",
       "      <td>28.0278</td>\n",
       "      <td>2022.2500</td>\n",
       "      <td>2046.4400</td>\n",
       "      <td>0.005833</td>\n",
       "    </tr>\n",
       "  </tbody>\n",
       "</table>\n",
       "</div>"
      ],
      "text/plain": [
       "   Length1   Width1      Size1  Length2   Width2      Size2     Energy  \\\n",
       "0  75.4124  29.4279  1672.8000  59.6897  26.7615  2118.7700   891.7410   \n",
       "1  57.7336  20.8956   760.5780  56.0803  31.6496  1160.5800   618.7040   \n",
       "2  18.7674  18.0485    56.1875  17.5254  11.8229    56.8125    78.3127   \n",
       "3  62.7512  27.3413  1555.1600  60.9768  32.2978  1519.8200   699.2440   \n",
       "4  50.9237  22.7845   622.3520  67.5829  28.0278  2022.2500  2046.4400   \n",
       "\n",
       "   Hadronness  \n",
       "0    0.009167  \n",
       "1    0.163583  \n",
       "2    0.245667  \n",
       "3    0.055498  \n",
       "4    0.005833  "
      ]
     },
     "execution_count": 69,
     "metadata": {},
     "output_type": "execute_result"
    }
   ],
   "source": [
    "# Have a look at the first 5 entries\n",
    "df.head(5)"
   ]
  },
  {
   "cell_type": "code",
   "execution_count": 70,
   "metadata": {},
   "outputs": [
    {
     "data": {
      "text/html": [
       "<div>\n",
       "<style scoped>\n",
       "    .dataframe tbody tr th:only-of-type {\n",
       "        vertical-align: middle;\n",
       "    }\n",
       "\n",
       "    .dataframe tbody tr th {\n",
       "        vertical-align: top;\n",
       "    }\n",
       "\n",
       "    .dataframe thead th {\n",
       "        text-align: right;\n",
       "    }\n",
       "</style>\n",
       "<table border=\"1\" class=\"dataframe\">\n",
       "  <thead>\n",
       "    <tr style=\"text-align: right;\">\n",
       "      <th></th>\n",
       "      <th>Length1</th>\n",
       "      <th>Width1</th>\n",
       "      <th>Size1</th>\n",
       "      <th>Length2</th>\n",
       "      <th>Width2</th>\n",
       "      <th>Size2</th>\n",
       "      <th>Energy</th>\n",
       "      <th>Hadronness</th>\n",
       "    </tr>\n",
       "  </thead>\n",
       "  <tbody>\n",
       "    <tr>\n",
       "      <th>count</th>\n",
       "      <td>91.000000</td>\n",
       "      <td>91.000000</td>\n",
       "      <td>91.000000</td>\n",
       "      <td>91.000000</td>\n",
       "      <td>91.000000</td>\n",
       "      <td>91.000000</td>\n",
       "      <td>91.000000</td>\n",
       "      <td>91.000000</td>\n",
       "    </tr>\n",
       "    <tr>\n",
       "      <th>mean</th>\n",
       "      <td>54.176255</td>\n",
       "      <td>22.812130</td>\n",
       "      <td>1646.708297</td>\n",
       "      <td>54.224245</td>\n",
       "      <td>24.654722</td>\n",
       "      <td>1868.007092</td>\n",
       "      <td>1671.549362</td>\n",
       "      <td>0.142014</td>\n",
       "    </tr>\n",
       "    <tr>\n",
       "      <th>std</th>\n",
       "      <td>20.908341</td>\n",
       "      <td>6.793258</td>\n",
       "      <td>3985.511581</td>\n",
       "      <td>19.996187</td>\n",
       "      <td>8.701513</td>\n",
       "      <td>5345.582758</td>\n",
       "      <td>3823.248354</td>\n",
       "      <td>0.185032</td>\n",
       "    </tr>\n",
       "    <tr>\n",
       "      <th>min</th>\n",
       "      <td>11.924500</td>\n",
       "      <td>10.913900</td>\n",
       "      <td>32.070300</td>\n",
       "      <td>17.525400</td>\n",
       "      <td>11.014400</td>\n",
       "      <td>38.742200</td>\n",
       "      <td>38.434900</td>\n",
       "      <td>0.000000</td>\n",
       "    </tr>\n",
       "    <tr>\n",
       "      <th>25%</th>\n",
       "      <td>39.066000</td>\n",
       "      <td>18.065700</td>\n",
       "      <td>158.777000</td>\n",
       "      <td>37.101950</td>\n",
       "      <td>18.673400</td>\n",
       "      <td>149.844000</td>\n",
       "      <td>153.744500</td>\n",
       "      <td>0.038809</td>\n",
       "    </tr>\n",
       "    <tr>\n",
       "      <th>50%</th>\n",
       "      <td>54.352600</td>\n",
       "      <td>21.690300</td>\n",
       "      <td>458.938000</td>\n",
       "      <td>56.634500</td>\n",
       "      <td>23.564400</td>\n",
       "      <td>485.367000</td>\n",
       "      <td>500.480000</td>\n",
       "      <td>0.085083</td>\n",
       "    </tr>\n",
       "    <tr>\n",
       "      <th>75%</th>\n",
       "      <td>67.847800</td>\n",
       "      <td>26.065650</td>\n",
       "      <td>1397.465000</td>\n",
       "      <td>66.632400</td>\n",
       "      <td>28.808500</td>\n",
       "      <td>1515.375000</td>\n",
       "      <td>1516.105000</td>\n",
       "      <td>0.168047</td>\n",
       "    </tr>\n",
       "    <tr>\n",
       "      <th>max</th>\n",
       "      <td>101.040000</td>\n",
       "      <td>47.450300</td>\n",
       "      <td>30939.300000</td>\n",
       "      <td>105.204000</td>\n",
       "      <td>68.439500</td>\n",
       "      <td>47242.800000</td>\n",
       "      <td>27952.100000</td>\n",
       "      <td>0.946246</td>\n",
       "    </tr>\n",
       "  </tbody>\n",
       "</table>\n",
       "</div>"
      ],
      "text/plain": [
       "          Length1     Width1         Size1     Length2     Width2  \\\n",
       "count   91.000000  91.000000     91.000000   91.000000  91.000000   \n",
       "mean    54.176255  22.812130   1646.708297   54.224245  24.654722   \n",
       "std     20.908341   6.793258   3985.511581   19.996187   8.701513   \n",
       "min     11.924500  10.913900     32.070300   17.525400  11.014400   \n",
       "25%     39.066000  18.065700    158.777000   37.101950  18.673400   \n",
       "50%     54.352600  21.690300    458.938000   56.634500  23.564400   \n",
       "75%     67.847800  26.065650   1397.465000   66.632400  28.808500   \n",
       "max    101.040000  47.450300  30939.300000  105.204000  68.439500   \n",
       "\n",
       "              Size2        Energy  Hadronness  \n",
       "count     91.000000     91.000000   91.000000  \n",
       "mean    1868.007092   1671.549362    0.142014  \n",
       "std     5345.582758   3823.248354    0.185032  \n",
       "min       38.742200     38.434900    0.000000  \n",
       "25%      149.844000    153.744500    0.038809  \n",
       "50%      485.367000    500.480000    0.085083  \n",
       "75%     1515.375000   1516.105000    0.168047  \n",
       "max    47242.800000  27952.100000    0.946246  "
      ]
     },
     "execution_count": 70,
     "metadata": {},
     "output_type": "execute_result"
    }
   ],
   "source": [
    "# Get some statistics from the data\n",
    "df.describe()"
   ]
  },
  {
   "cell_type": "code",
   "execution_count": 71,
   "metadata": {},
   "outputs": [
    {
     "data": {
      "text/plain": [
       "Length1        113.674900\n",
       "Width1          50.125800\n",
       "Size1         2177.512000\n",
       "Length2        128.559700\n",
       "Width2          60.325600\n",
       "Size2         3542.070000\n",
       "Energy        2745.684000\n",
       "Hadronness       0.061331\n",
       "dtype: float64"
      ]
     },
     "execution_count": 71,
     "metadata": {},
     "output_type": "execute_result"
    }
   ],
   "source": [
    "df[3:5].sum()"
   ]
  },
  {
   "cell_type": "code",
   "execution_count": 72,
   "metadata": {},
   "outputs": [
    {
     "data": {
      "text/plain": [
       "Length1         56.837450\n",
       "Width1          25.062900\n",
       "Size1         1088.756000\n",
       "Length2         64.279850\n",
       "Width2          30.162800\n",
       "Size2         1771.035000\n",
       "Energy        1372.842000\n",
       "Hadronness       0.030666\n",
       "dtype: float64"
      ]
     },
     "execution_count": 72,
     "metadata": {},
     "output_type": "execute_result"
    }
   ],
   "source": [
    "df[3:5].mean()"
   ]
  },
  {
   "cell_type": "code",
   "execution_count": 73,
   "metadata": {},
   "outputs": [
    {
     "data": {
      "text/plain": [
       "Length1       91\n",
       "Width1        91\n",
       "Size1         91\n",
       "Length2       91\n",
       "Width2        91\n",
       "Size2         91\n",
       "Energy        91\n",
       "Hadronness    91\n",
       "dtype: int64"
      ]
     },
     "execution_count": 73,
     "metadata": {},
     "output_type": "execute_result"
    }
   ],
   "source": [
    "df.count()"
   ]
  },
  {
   "cell_type": "code",
   "execution_count": 74,
   "metadata": {},
   "outputs": [
    {
     "data": {
      "text/plain": [
       "Length1       18.767400\n",
       "Width1        18.048500\n",
       "Size1         56.187500\n",
       "Length2       17.525400\n",
       "Width2        11.822900\n",
       "Size2         56.812500\n",
       "Energy        78.312700\n",
       "Hadronness     0.005833\n",
       "dtype: float64"
      ]
     },
     "execution_count": 74,
     "metadata": {},
     "output_type": "execute_result"
    }
   ],
   "source": [
    "# Minimum for each column - pandas function\n",
    "d.min()"
   ]
  },
  {
   "cell_type": "code",
   "execution_count": 75,
   "metadata": {},
   "outputs": [
    {
     "data": {
      "text/plain": [
       "Length1       18.767400\n",
       "Width1        18.048500\n",
       "Size1         56.187500\n",
       "Length2       17.525400\n",
       "Width2        11.822900\n",
       "Size2         56.812500\n",
       "Energy        78.312700\n",
       "Hadronness     0.005833\n",
       "dtype: float64"
      ]
     },
     "execution_count": 75,
     "metadata": {},
     "output_type": "execute_result"
    }
   ],
   "source": [
    "# Minimum for each column - numpy function\n",
    "np.min(d)"
   ]
  },
  {
   "cell_type": "code",
   "execution_count": 76,
   "metadata": {},
   "outputs": [
    {
     "data": {
      "text/plain": [
       "Length1       18.767400\n",
       "Width1        18.048500\n",
       "Size1         56.187500\n",
       "Length2       17.525400\n",
       "Width2        11.822900\n",
       "Size2         56.812500\n",
       "Energy        78.312700\n",
       "Hadronness     0.005833\n",
       "dtype: float64"
      ]
     },
     "execution_count": 76,
     "metadata": {},
     "output_type": "execute_result"
    }
   ],
   "source": [
    "# Minimum for each _column_ (axis=0)\n",
    "np.min(d, axis=0)"
   ]
  },
  {
   "cell_type": "code",
   "execution_count": 77,
   "metadata": {},
   "outputs": [
    {
     "data": {
      "text/plain": [
       "0    0.009167\n",
       "1    0.163583\n",
       "2    0.245667\n",
       "3    0.055498\n",
       "4    0.005833\n",
       "dtype: float64"
      ]
     },
     "execution_count": 77,
     "metadata": {},
     "output_type": "execute_result"
    }
   ],
   "source": [
    "# Minimum for each _row_ (axis=1)\n",
    "np.min(d, axis=1)"
   ]
  },
  {
   "cell_type": "code",
   "execution_count": 78,
   "metadata": {},
   "outputs": [
    {
     "data": {
      "text/plain": [
       "0    0.009167\n",
       "1    0.163583\n",
       "2    0.245667\n",
       "3    0.055498\n",
       "4    0.005833\n",
       "dtype: float64"
      ]
     },
     "execution_count": 78,
     "metadata": {},
     "output_type": "execute_result"
    }
   ],
   "source": [
    "# Also the pandas function has this functionality\n",
    "d.min(axis=1)"
   ]
  },
  {
   "cell_type": "code",
   "execution_count": 79,
   "metadata": {},
   "outputs": [
    {
     "data": {
      "text/plain": [
       "array([11.9245, 10.9139, 32.0703, 17.5254, 11.0144, 38.7422, 38.4349,\n",
       "        0.    ])"
      ]
     },
     "execution_count": 79,
     "metadata": {},
     "output_type": "execute_result"
    }
   ],
   "source": [
    "# In case we have NaN (Not a Number) values in our data, this function is very handy\n",
    "np.nanmin(df, axis=0)"
   ]
  },
  {
   "cell_type": "code",
   "execution_count": 80,
   "metadata": {},
   "outputs": [
    {
     "data": {
      "text/plain": [
       "array([0.00916667, 0.163583  , 0.245667  , 0.0554978 , 0.00583333,\n",
       "       0.        , 0.0392857 , 0.0163333 , 0.        , 0.00166667,\n",
       "       0.946246  , 0.0180909 , 0.373571  , 0.384298  , 0.106333  ,\n",
       "       0.937333  , 0.0186071 , 0.0183333 , 0.0472222 , 0.0872619 ,\n",
       "       0.224726  , 0.116889  , 0.0673333 , 0.17225   , 0.044     ,\n",
       "       0.151798  , 0.0696111 , 0.0692778 , 0.0219167 , 0.293894  ,\n",
       "       0.0363571 , 0.134667  , 0.492183  , 0.0498333 , 0.0770833 ,\n",
       "       0.105215  , 0.0430794 , 0.127016  , 0.109992  , 0.0874286 ,\n",
       "       0.0677381 , 0.106813  , 0.188274  , 0.189373  , 0.114044  ,\n",
       "       0.297012  , 0.0443333 , 0.0448333 , 0.133982  , 0.0383333 ,\n",
       "       0.293726  , 0.        , 0.924464  , 0.07025   , 0.102123  ,\n",
       "       0.164095  , 0.182988  , 0.        , 0.10419   , 0.0780043 ,\n",
       "       0.00392857, 0.110643  , 0.549095  , 0.138444  , 0.262869  ,\n",
       "       0.002     , 0.149722  , 0.267023  , 0.176969  , 0.0303333 ,\n",
       "       0.        , 0.0558413 , 0.150857  , 0.066     , 0.0525556 ,\n",
       "       0.0847937 , 0.0327778 , 0.0761905 , 0.044596  , 0.0114286 ,\n",
       "       0.1385    , 0.217623  , 0.00166667, 0.0186667 , 0.138552  ,\n",
       "       0.172     , 0.        , 0.346272  , 0.0605    , 0.0850833 ,\n",
       "       0.364857  ])"
      ]
     },
     "execution_count": 80,
     "metadata": {},
     "output_type": "execute_result"
    }
   ],
   "source": [
    "np.nanmin(df, axis=1)"
   ]
  },
  {
   "cell_type": "code",
   "execution_count": 81,
   "metadata": {},
   "outputs": [
    {
     "data": {
      "text/plain": [
       "97.937228"
      ]
     },
     "execution_count": 81,
     "metadata": {},
     "output_type": "execute_result"
    }
   ],
   "source": [
    "# You can also calculate percentiles\n",
    "np.percentile(df, 68)"
   ]
  },
  {
   "cell_type": "code",
   "execution_count": 82,
   "metadata": {},
   "outputs": [
    {
     "data": {
      "text/plain": [
       "97.937228"
      ]
     },
     "execution_count": 82,
     "metadata": {},
     "output_type": "execute_result"
    }
   ],
   "source": [
    "# There's also a percentile function that can ignore NaNs\n",
    "np.nanpercentile(df, 68)"
   ]
  },
  {
   "cell_type": "markdown",
   "metadata": {},
   "source": [
    "### Writing"
   ]
  },
  {
   "cell_type": "code",
   "execution_count": 83,
   "metadata": {},
   "outputs": [],
   "source": [
    "# Dump to file\n",
    "d.to_csv('test_pandas.csv', index=False)"
   ]
  },
  {
   "cell_type": "code",
   "execution_count": 84,
   "metadata": {},
   "outputs": [
    {
     "name": "stdout",
     "output_type": "stream",
     "text": [
      "\\begin{tabular}{lrrrrrrrr}\n",
      "\\toprule\n",
      "{} &  Length1 &   Width1 &      Size1 &  Length2 &   Width2 &      Size2 &     Energy &  Hadronness \\\\\n",
      "\\midrule\n",
      "0 &  75.4124 &  29.4279 &  1672.8000 &  59.6897 &  26.7615 &  2118.7700 &   891.7410 &    0.009167 \\\\\n",
      "1 &  57.7336 &  20.8956 &   760.5780 &  56.0803 &  31.6496 &  1160.5800 &   618.7040 &    0.163583 \\\\\n",
      "2 &  18.7674 &  18.0485 &    56.1875 &  17.5254 &  11.8229 &    56.8125 &    78.3127 &    0.245667 \\\\\n",
      "3 &  62.7512 &  27.3413 &  1555.1600 &  60.9768 &  32.2978 &  1519.8200 &   699.2440 &    0.055498 \\\\\n",
      "4 &  50.9237 &  22.7845 &   622.3520 &  67.5829 &  28.0278 &  2022.2500 &  2046.4400 &    0.005833 \\\\\n",
      "\\bottomrule\n",
      "\\end{tabular}\n",
      "\n"
     ]
    }
   ],
   "source": [
    "# Convert table to latex\n",
    "print(d.to_latex())"
   ]
  },
  {
   "cell_type": "code",
   "execution_count": null,
   "metadata": {},
   "outputs": [],
   "source": []
  }
 ],
 "metadata": {
  "kernelspec": {
   "display_name": "Python 3",
   "language": "python",
   "name": "python3"
  },
  "language_info": {
   "codemirror_mode": {
    "name": "ipython",
    "version": 3
   },
   "file_extension": ".py",
   "mimetype": "text/x-python",
   "name": "python",
   "nbconvert_exporter": "python",
   "pygments_lexer": "ipython3",
   "version": "3.6.4"
  }
 },
 "nbformat": 4,
 "nbformat_minor": 2
}
